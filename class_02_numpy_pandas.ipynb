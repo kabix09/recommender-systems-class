{
 "cells": [
  {
   "cell_type": "code",
   "execution_count": 1,
   "id": "spread-happiness",
   "metadata": {},
   "outputs": [],
   "source": [
    "%matplotlib inline\n",
    "%load_ext autoreload\n",
    "%autoreload 2\n",
    "\n",
    "import numpy as np\n",
    "import pandas as pd\n",
    "import matplotlib.pyplot as plt\n",
    "import seaborn as sns\n",
    "from IPython.display import Markdown, display, HTML\n",
    "\n",
    "# Fix the dying kernel problem (only a problem in some installations - you can remove it, if it works without it)\n",
    "import os\n",
    "os.environ['KMP_DUPLICATE_LIB_OK'] = 'True'"
   ]
  },
  {
   "cell_type": "markdown",
   "id": "approximate-classic",
   "metadata": {},
   "source": [
    "# Numpy tasks\n",
    "\n",
    "For a detailed reference check out: https://numpy.org/doc/stable/reference/arrays.indexing.html."
   ]
  },
  {
   "cell_type": "markdown",
   "id": "regular-niger",
   "metadata": {},
   "source": [
    "**Task 1.** Calculate the sigmoid (logistic) function on every element of the following numpy array [0.3, 1.2, -1.4, 0.2, -0.1, 0.1, 0.8, -0.25] and print the last 5 elements. Use only vector operations."
   ]
  },
  {
   "cell_type": "code",
   "execution_count": 3,
   "id": "agreed-single",
   "metadata": {},
   "outputs": [
    {
     "name": "stdout",
     "output_type": "stream",
     "text": [
      "[0.549834   0.47502081 0.52497919 0.68997448 0.4378235 ]\n"
     ]
    }
   ],
   "source": [
    "import math\n",
    "\n",
    "def sigmoid(x):\n",
    "  return 1 / (1 + math.exp(-x))\n",
    "\n",
    "input = np.array([ sigmoid(x) for x in  [0.3, 1.2, -1.4, 0.2, -0.1, 0.1, 0.8, -0.25]])\n",
    "\n",
    "print(input[-5:])"
   ]
  },
  {
   "cell_type": "markdown",
   "id": "another-catch",
   "metadata": {},
   "source": [
    "**Task 2.** Calculate the dot product of the following two vectors:<br/>\n",
    "$x = [3, 1, 4, 2, 6, 1, 4, 8]$<br/>\n",
    "$y = [5, 2, 3, 12, 2, 4, 17, 11]$<br/>\n",
    "a) by using element-wise mutliplication and np.sum,<br/>\n",
    "b) by using np.dot,<br/>\n",
    "b) by using np.matmul and transposition (x.T)."
   ]
  },
  {
   "cell_type": "code",
   "execution_count": 4,
   "id": "forbidden-journalism",
   "metadata": {},
   "outputs": [
    {
     "name": "stdout",
     "output_type": "stream",
     "text": [
      "225\n",
      "225\n",
      "225\n"
     ]
    }
   ],
   "source": [
    "x = np.array([3, 1, 4, 2, 6, 1, 4, 8])\n",
    "y = np.array([5, 2, 3, 12, 2, 4, 17, 11])\n",
    "\n",
    "# a)\n",
    "print(np.sum(x * y))\n",
    "\n",
    "# b)\n",
    "print(np.dot(x, y))\n",
    "\n",
    "# c)\n",
    "print(np.matmul(x, y.transpose()))"
   ]
  },
  {
   "cell_type": "markdown",
   "id": "acute-amber",
   "metadata": {},
   "source": [
    "**Task 3.** Calculate value of the logistic model<br/>\n",
    "$$y = \\frac{1}{1 + e^{-x_0 \\theta_0 - \\ldots - x_9 \\theta_9 - \\theta_{10}}}$$\n",
    "for<br/>\n",
    "$x = [1.2, 2.3, 3.4, -0.7, 4.2, 2.7, -0.5, 1.4, -3.3, 0.2]$<br/>\n",
    "$\\theta = [2.7, 0.33, -2.12, -1.73, 2.9, -5.8, -0.9, 12.11, 3.43, -0.5, -1.65]$<br/>\n",
    "and print the result. Use only vector operations."
   ]
  },
  {
   "cell_type": "code",
   "execution_count": 5,
   "id": "falling-holder",
   "metadata": {},
   "outputs": [
    {
     "name": "stdout",
     "output_type": "stream",
     "text": [
      "0.2417699832615572\n"
     ]
    }
   ],
   "source": [
    "def sigmoid(x):\n",
    "  return 1 / (1 + math.exp(x))\n",
    "\n",
    "x = np.array([1.2, 2.3, 3.4, -0.7, 4.2, 2.7, -0.5, 1.4, -3.3, 0.2, 1])\n",
    "theta = np.array([2.7, 0.33, -2.12, -1.73, 2.9, -5.8, -0.9, 12.11, 3.43, -0.5, -1.65])\n",
    "\n",
    "#tmp_val = np.sum()\n",
    "print(sigmoid(np.sum(-1*x*theta)))"
   ]
  },
  {
   "cell_type": "markdown",
   "id": "encouraging-clear",
   "metadata": {},
   "source": [
    "**Task 4.** Calculate value of the multivariate linear regression model<br/>\n",
    "$$y = A x + B$$\n",
    "for<br/>\n",
    "$A = \\begin{bmatrix} 1 & 2 & 1 \\\\ 3 & 0 & 1 \\end{bmatrix}$<br/>\n",
    "$B = \\begin{bmatrix} 0.2 \\\\ 0.3 \\end{bmatrix}$<br/>\n",
    "$x = [1, 2, 3]^T$<br/>\n",
    "and print the result. Use only vector and matrix operations."
   ]
  },
  {
   "cell_type": "code",
   "execution_count": 6,
   "id": "casual-emergency",
   "metadata": {},
   "outputs": [
    {
     "name": "stdout",
     "output_type": "stream",
     "text": [
      "[[8.2]\n",
      " [6.3]]\n"
     ]
    }
   ],
   "source": [
    "# https://www.delftstack.com/howto/numpy/numpy-transpose-a-1d-array/\n",
    "A = np.array([[1,2,1], [3,0,1]])\n",
    "B = np.array([[0.2], [0.3]])\n",
    "\n",
    "x = np.array([[1,2,3]]).transpose()\n",
    "print(np.matmul(A, x) + B)\n"
   ]
  },
  {
   "cell_type": "markdown",
   "id": "latter-vector",
   "metadata": {},
   "source": [
    "# Pandas"
   ]
  },
  {
   "cell_type": "markdown",
   "id": "contrary-vacuum",
   "metadata": {},
   "source": [
    "## Load datasets\n",
    "\n",
    "- Steam (https://www.kaggle.com/tamber/steam-video-games)\n",
    "\n",
    "- MovieLens (https://grouplens.org/datasets/movielens/)"
   ]
  },
  {
   "cell_type": "code",
   "execution_count": 7,
   "id": "alert-friday",
   "metadata": {},
   "outputs": [],
   "source": [
    "steam_df = pd.read_csv(os.path.join(\"data\", \"steam\", \"steam-200k.csv\"), \n",
    "                       names=['user-id', 'game-title', 'behavior-name', 'value', 'zero'])\n",
    "\n",
    "ml_ratings_df = pd.read_csv(os.path.join(\"data\", \"movielens_small\", \"ratings.csv\"))\n",
    "ml_movies_df = pd.read_csv(os.path.join(\"data\", \"movielens_small\", \"movies.csv\"))"
   ]
  },
  {
   "cell_type": "markdown",
   "id": "alpha-portal",
   "metadata": {},
   "source": [
    "## Merge both MovieLens DataFrames into one"
   ]
  },
  {
   "cell_type": "code",
   "execution_count": 8,
   "id": "affecting-disclosure",
   "metadata": {},
   "outputs": [
    {
     "data": {
      "text/html": [
       "<div>\n",
       "<style scoped>\n",
       "    .dataframe tbody tr th:only-of-type {\n",
       "        vertical-align: middle;\n",
       "    }\n",
       "\n",
       "    .dataframe tbody tr th {\n",
       "        vertical-align: top;\n",
       "    }\n",
       "\n",
       "    .dataframe thead th {\n",
       "        text-align: right;\n",
       "    }\n",
       "</style>\n",
       "<table border=\"1\" class=\"dataframe\">\n",
       "  <thead>\n",
       "    <tr style=\"text-align: right;\">\n",
       "      <th></th>\n",
       "      <th>userId</th>\n",
       "      <th>movieId</th>\n",
       "      <th>rating</th>\n",
       "      <th>timestamp</th>\n",
       "      <th>title</th>\n",
       "      <th>genres</th>\n",
       "    </tr>\n",
       "  </thead>\n",
       "  <tbody>\n",
       "    <tr>\n",
       "      <th>0</th>\n",
       "      <td>1</td>\n",
       "      <td>1</td>\n",
       "      <td>4.0</td>\n",
       "      <td>964982703</td>\n",
       "      <td>Toy Story (1995)</td>\n",
       "      <td>Adventure|Animation|Children|Comedy|Fantasy</td>\n",
       "    </tr>\n",
       "    <tr>\n",
       "      <th>1</th>\n",
       "      <td>5</td>\n",
       "      <td>1</td>\n",
       "      <td>4.0</td>\n",
       "      <td>847434962</td>\n",
       "      <td>Toy Story (1995)</td>\n",
       "      <td>Adventure|Animation|Children|Comedy|Fantasy</td>\n",
       "    </tr>\n",
       "    <tr>\n",
       "      <th>2</th>\n",
       "      <td>7</td>\n",
       "      <td>1</td>\n",
       "      <td>4.5</td>\n",
       "      <td>1106635946</td>\n",
       "      <td>Toy Story (1995)</td>\n",
       "      <td>Adventure|Animation|Children|Comedy|Fantasy</td>\n",
       "    </tr>\n",
       "    <tr>\n",
       "      <th>3</th>\n",
       "      <td>15</td>\n",
       "      <td>1</td>\n",
       "      <td>2.5</td>\n",
       "      <td>1510577970</td>\n",
       "      <td>Toy Story (1995)</td>\n",
       "      <td>Adventure|Animation|Children|Comedy|Fantasy</td>\n",
       "    </tr>\n",
       "    <tr>\n",
       "      <th>4</th>\n",
       "      <td>17</td>\n",
       "      <td>1</td>\n",
       "      <td>4.5</td>\n",
       "      <td>1305696483</td>\n",
       "      <td>Toy Story (1995)</td>\n",
       "      <td>Adventure|Animation|Children|Comedy|Fantasy</td>\n",
       "    </tr>\n",
       "    <tr>\n",
       "      <th>5</th>\n",
       "      <td>18</td>\n",
       "      <td>1</td>\n",
       "      <td>3.5</td>\n",
       "      <td>1455209816</td>\n",
       "      <td>Toy Story (1995)</td>\n",
       "      <td>Adventure|Animation|Children|Comedy|Fantasy</td>\n",
       "    </tr>\n",
       "    <tr>\n",
       "      <th>6</th>\n",
       "      <td>19</td>\n",
       "      <td>1</td>\n",
       "      <td>4.0</td>\n",
       "      <td>965705637</td>\n",
       "      <td>Toy Story (1995)</td>\n",
       "      <td>Adventure|Animation|Children|Comedy|Fantasy</td>\n",
       "    </tr>\n",
       "    <tr>\n",
       "      <th>7</th>\n",
       "      <td>21</td>\n",
       "      <td>1</td>\n",
       "      <td>3.5</td>\n",
       "      <td>1407618878</td>\n",
       "      <td>Toy Story (1995)</td>\n",
       "      <td>Adventure|Animation|Children|Comedy|Fantasy</td>\n",
       "    </tr>\n",
       "    <tr>\n",
       "      <th>8</th>\n",
       "      <td>27</td>\n",
       "      <td>1</td>\n",
       "      <td>3.0</td>\n",
       "      <td>962685262</td>\n",
       "      <td>Toy Story (1995)</td>\n",
       "      <td>Adventure|Animation|Children|Comedy|Fantasy</td>\n",
       "    </tr>\n",
       "    <tr>\n",
       "      <th>9</th>\n",
       "      <td>31</td>\n",
       "      <td>1</td>\n",
       "      <td>5.0</td>\n",
       "      <td>850466616</td>\n",
       "      <td>Toy Story (1995)</td>\n",
       "      <td>Adventure|Animation|Children|Comedy|Fantasy</td>\n",
       "    </tr>\n",
       "  </tbody>\n",
       "</table>\n",
       "</div>"
      ],
      "text/plain": [
       "   userId  movieId  rating   timestamp             title  \\\n",
       "0       1        1     4.0   964982703  Toy Story (1995)   \n",
       "1       5        1     4.0   847434962  Toy Story (1995)   \n",
       "2       7        1     4.5  1106635946  Toy Story (1995)   \n",
       "3      15        1     2.5  1510577970  Toy Story (1995)   \n",
       "4      17        1     4.5  1305696483  Toy Story (1995)   \n",
       "5      18        1     3.5  1455209816  Toy Story (1995)   \n",
       "6      19        1     4.0   965705637  Toy Story (1995)   \n",
       "7      21        1     3.5  1407618878  Toy Story (1995)   \n",
       "8      27        1     3.0   962685262  Toy Story (1995)   \n",
       "9      31        1     5.0   850466616  Toy Story (1995)   \n",
       "\n",
       "                                        genres  \n",
       "0  Adventure|Animation|Children|Comedy|Fantasy  \n",
       "1  Adventure|Animation|Children|Comedy|Fantasy  \n",
       "2  Adventure|Animation|Children|Comedy|Fantasy  \n",
       "3  Adventure|Animation|Children|Comedy|Fantasy  \n",
       "4  Adventure|Animation|Children|Comedy|Fantasy  \n",
       "5  Adventure|Animation|Children|Comedy|Fantasy  \n",
       "6  Adventure|Animation|Children|Comedy|Fantasy  \n",
       "7  Adventure|Animation|Children|Comedy|Fantasy  \n",
       "8  Adventure|Animation|Children|Comedy|Fantasy  \n",
       "9  Adventure|Animation|Children|Comedy|Fantasy  "
      ]
     },
     "execution_count": 8,
     "metadata": {},
     "output_type": "execute_result"
    }
   ],
   "source": [
    "ml_df = pd.merge(ml_ratings_df, ml_movies_df, on='movieId')\n",
    "ml_df.head(10)"
   ]
  },
  {
   "cell_type": "markdown",
   "id": "objective-associate",
   "metadata": {},
   "source": [
    "## Pandas tasks - Steam dataset"
   ]
  },
  {
   "cell_type": "markdown",
   "id": "floppy-american",
   "metadata": {},
   "source": [
    "**Task 5.** How many people made a purchase in the Steam dataset? Remember that a person could buy many games, but you need to count every person once."
   ]
  },
  {
   "cell_type": "code",
   "execution_count": 9,
   "id": "decimal-grass",
   "metadata": {},
   "outputs": [
    {
     "name": "stdout",
     "output_type": "stream",
     "text": [
      "12393\n"
     ]
    }
   ],
   "source": [
    "print(len(steam_df['user-id'].unique()))"
   ]
  },
  {
   "cell_type": "markdown",
   "id": "protected-glossary",
   "metadata": {},
   "source": [
    "**Task 6.** How many people made a purchase of \"The Elder Scrolls V Skyrim\"?"
   ]
  },
  {
   "cell_type": "code",
   "execution_count": 10,
   "id": "distant-overview",
   "metadata": {},
   "outputs": [
    {
     "name": "stdout",
     "output_type": "stream",
     "text": [
      "717\n"
     ]
    }
   ],
   "source": [
    "tmp_df = steam_df.loc[(steam_df['behavior-name'] == 'purchase') & (steam_df['game-title'] == 'The Elder Scrolls V Skyrim')]\n",
    "\n",
    "print(len(tmp_df['user-id'].unique()))"
   ]
  },
  {
   "cell_type": "markdown",
   "id": "vocational-weekly",
   "metadata": {},
   "source": [
    "**Task 7.** How many purchases people made on average?"
   ]
  },
  {
   "cell_type": "code",
   "execution_count": null,
   "id": "reflected-cathedral",
   "metadata": {},
   "outputs": [],
   "source": [
    "purchased_records = steam_df.loc[steam_df['behavior-name'] == 'purchase']\n",
    "print(len(purchased_records) / len(steam_df['user-id'].unique()))"
   ]
  },
  {
   "cell_type": "markdown",
   "id": "signed-transaction",
   "metadata": {},
   "source": [
    "**Task 8.** Who bought the most games?"
   ]
  },
  {
   "cell_type": "code",
   "execution_count": 11,
   "id": "handmade-revolution",
   "metadata": {},
   "outputs": [
    {
     "name": "stdout",
     "output_type": "stream",
     "text": [
      "62990992\n"
     ]
    }
   ],
   "source": [
    "#https://www.statology.org/pandas-select-rows-by-index/\n",
    "\n",
    "tmp_df = steam_df[['user-id']] # double [[]] to get DataFrame not Shape type\n",
    "tmp_df.insert(1, 'count', 0) # first arg: number of column behind witch new one is inserted, second arg: name of column, third arg: column value fore each row \n",
    "tmp_grouped = tmp_df.groupby('user-id', as_index=False).count()\n",
    "idx = tmp_grouped['count'].idxmax() # return row index where column value is max\n",
    "print(tmp_grouped.loc[tmp_grouped.index == idx, 'user-id'].values[0])"
   ]
  },
  {
   "cell_type": "markdown",
   "id": "piano-bobby",
   "metadata": {},
   "source": [
    "**Task 9.** How many hours on average people played in \"The Elder Scrolls V Skyrim\"?"
   ]
  },
  {
   "cell_type": "code",
   "execution_count": 12,
   "id": "hydraulic-observation",
   "metadata": {},
   "outputs": [
    {
     "name": "stdout",
     "output_type": "stream",
     "text": [
      "104.71093057607091\n"
     ]
    }
   ],
   "source": [
    "# 'value' in columns with 'behavior-name' == 'play' means played hours\n",
    "# 'value' in columns with 'behavior-name' == 'purchase' means did purchased true or false\n",
    "tmp_df = steam_df[(steam_df['game-title'] == 'The Elder Scrolls V Skyrim') & (steam_df['behavior-name'] == 'play')]\n",
    "\n",
    "print(tmp_df['value'].sum() / len(tmp_df['user-id'].unique()))"
   ]
  },
  {
   "cell_type": "markdown",
   "id": "stuffed-creativity",
   "metadata": {},
   "source": [
    "**Task 10.** Which games were played the most (in terms of the number of hours played)? Print the first 10 titles and respective numbers of hours."
   ]
  },
  {
   "cell_type": "code",
   "execution_count": 13,
   "id": "challenging-truck",
   "metadata": {},
   "outputs": [
    {
     "name": "stdout",
     "output_type": "stream",
     "text": [
      "                                    game-title     value\n",
      "0                                       Dota 2  981684.6\n",
      "1              Counter-Strike Global Offensive  322771.6\n",
      "2                              Team Fortress 2  173673.3\n",
      "3                               Counter-Strike  134261.1\n",
      "4                   Sid Meier's Civilization V   99821.3\n",
      "5                        Counter-Strike Source   96075.5\n",
      "6                   The Elder Scrolls V Skyrim   70889.3\n",
      "7                                  Garry's Mod   49725.3\n",
      "8  Call of Duty Modern Warfare 2 - Multiplayer   42009.9\n",
      "9                                Left 4 Dead 2   33596.7\n"
     ]
    }
   ],
   "source": [
    "# https://stackoverflow.com/questions/35674987/pandas-groupby-removing-header\n",
    "# select rows with condidtion and get sub data frame (with specyfic columns)\n",
    "tmp_df = steam_df[(steam_df['behavior-name'] == 'play')][['game-title', 'value']]\n",
    "tmp_df = tmp_df.groupby(['game-title'], as_index=False).sum() #.sort_values('value')\n",
    "# drop=true prevent form addinf column 'index'\n",
    "print(tmp_df.sort_values('value', ascending=False).head(10).reset_index(drop=True))"
   ]
  },
  {
   "cell_type": "markdown",
   "id": "crude-petroleum",
   "metadata": {},
   "source": [
    "**Task 11.** Which games are the most consistently played (in terms of the average number of hours played)? Print the first 10 titles and respective numbers of hours."
   ]
  },
  {
   "cell_type": "code",
   "execution_count": 14,
   "id": "surgical-lawsuit",
   "metadata": {},
   "outputs": [
    {
     "name": "stdout",
     "output_type": "stream",
     "text": [
      "                          game-title        value\n",
      "0            Eastside Hockey Manager  1295.000000\n",
      "1  Baldur's Gate II Enhanced Edition   475.255556\n",
      "2                    FIFA Manager 09   411.000000\n",
      "3                          Perpetuum   400.975000\n",
      "4              Football Manager 2014   391.984615\n",
      "5              Football Manager 2012   390.453165\n",
      "6              Football Manager 2010   375.048571\n",
      "7              Football Manager 2011   365.703226\n",
      "8                  Freaking Meatbags   331.000000\n",
      "9        Out of the Park Baseball 16   330.400000\n"
     ]
    }
   ],
   "source": [
    "# select rows with condidtion and get sub data frame (with specyfic columns)\n",
    "tmp_df = steam_df[(steam_df['behavior-name'] == 'play')][['game-title', 'value']]\n",
    "tmp_df = tmp_df.groupby(['game-title'], as_index=False)['value'].mean()\n",
    "\n",
    "print(tmp_df.sort_values('value', ascending=False).head(10).reset_index(drop=True)) "
   ]
  },
  {
   "cell_type": "markdown",
   "id": "monetary-toyota",
   "metadata": {},
   "source": [
    "**Task 12\\*\\*.** Fix the above for the fact that 0 hours played is not listed, but only a purchase is recorded in such a case."
   ]
  },
  {
   "cell_type": "code",
   "execution_count": 15,
   "id": "protective-report",
   "metadata": {},
   "outputs": [
    {
     "name": "stdout",
     "output_type": "stream",
     "text": [
      "          user-id                         game-title behavior-name   value  \\\n",
      "8938     34177747  Baldur's Gate II Enhanced Edition      purchase     1.0   \n",
      "23181    53898495  Baldur's Gate II Enhanced Edition      purchase     1.0   \n",
      "23182    53898495  Baldur's Gate II Enhanced Edition          play    36.0   \n",
      "39736      298950  Baldur's Gate II Enhanced Edition      purchase     1.0   \n",
      "45549    73835640  Baldur's Gate II Enhanced Edition      purchase     1.0   \n",
      "46068    46637811  Baldur's Gate II Enhanced Edition      purchase     1.0   \n",
      "59946    66255019  Baldur's Gate II Enhanced Edition      purchase     1.0   \n",
      "59947    66255019  Baldur's Gate II Enhanced Edition          play   139.0   \n",
      "76955    86469479  Baldur's Gate II Enhanced Edition      purchase     1.0   \n",
      "97527    80550861  Baldur's Gate II Enhanced Edition      purchase     1.0   \n",
      "97528    80550861  Baldur's Gate II Enhanced Edition          play     2.2   \n",
      "98189    88525821  Baldur's Gate II Enhanced Edition      purchase     1.0   \n",
      "98190    88525821  Baldur's Gate II Enhanced Edition          play    45.0   \n",
      "100101   11731710  Baldur's Gate II Enhanced Edition      purchase     1.0   \n",
      "111909   52731290  Baldur's Gate II Enhanced Edition      purchase     1.0   \n",
      "111910   52731290  Baldur's Gate II Enhanced Edition          play  3898.0   \n",
      "124975   46028967  Baldur's Gate II Enhanced Edition      purchase     1.0   \n",
      "129765   10599862  Baldur's Gate II Enhanced Edition      purchase     1.0   \n",
      "129766   10599862  Baldur's Gate II Enhanced Edition          play    72.0   \n",
      "144164   95930936  Baldur's Gate II Enhanced Edition      purchase     1.0   \n",
      "144165   95930936  Baldur's Gate II Enhanced Edition          play    15.9   \n",
      "180514   77818807  Baldur's Gate II Enhanced Edition      purchase     1.0   \n",
      "180515   77818807  Baldur's Gate II Enhanced Edition          play     3.2   \n",
      "182429  167194020  Baldur's Gate II Enhanced Edition      purchase     1.0   \n",
      "182430  167194020  Baldur's Gate II Enhanced Edition          play    66.0   \n",
      "193889   20772968  Baldur's Gate II Enhanced Edition      purchase     1.0   \n",
      "\n",
      "        zero  \n",
      "8938       0  \n",
      "23181      0  \n",
      "23182      0  \n",
      "39736      0  \n",
      "45549      0  \n",
      "46068      0  \n",
      "59946      0  \n",
      "59947      0  \n",
      "76955      0  \n",
      "97527      0  \n",
      "97528      0  \n",
      "98189      0  \n",
      "98190      0  \n",
      "100101     0  \n",
      "111909     0  \n",
      "111910     0  \n",
      "124975     0  \n",
      "129765     0  \n",
      "129766     0  \n",
      "144164     0  \n",
      "144165     0  \n",
      "180514     0  \n",
      "180515     0  \n",
      "182429     0  \n",
      "182430     0  \n",
      "193889     0  \n",
      "                                    game-title     value\n",
      "0                                       Dota 2  981684.6\n",
      "1              Counter-Strike Global Offensive  322771.6\n",
      "2                              Team Fortress 2  173673.3\n",
      "3                               Counter-Strike  134261.1\n",
      "4                   Sid Meier's Civilization V   99821.3\n",
      "5                        Counter-Strike Source   96075.5\n",
      "6                   The Elder Scrolls V Skyrim   70889.3\n",
      "7                                  Garry's Mod   49725.3\n",
      "8  Call of Duty Modern Warfare 2 - Multiplayer   42009.9\n",
      "9                                Left 4 Dead 2   33596.7\n"
     ]
    }
   ],
   "source": [
    "# select rows with condidtion and get sub data frame (with specyfic columns)\n",
    "tmp_df = steam_df[(steam_df['behavior-name'] == 'play')][['game-title', 'value']]\n",
    "tmp_df = tmp_df.groupby(['game-title'], as_index=False)['value'].sum()\n",
    "# where palyer purchase game but never played, hours are 0 but aren't count in mean()\n",
    "print(steam_df[steam_df['game-title'] == \"Baldur's Gate II Enhanced Edition\"])\n",
    "print(tmp_df.sort_values('value', ascending=False).head(10).reset_index(drop=True)) "
   ]
  },
  {
   "cell_type": "markdown",
   "id": "ceramic-awareness",
   "metadata": {},
   "source": [
    "**Task 13.** Apply the sigmoid function\n",
    "$$f(x) = \\frac{1}{1 + e^{-\\frac{1}{100}x}}$$\n",
    "to hours played and print the first 10 rows from the entire Steam dataset after this change."
   ]
  },
  {
   "cell_type": "code",
   "execution_count": 16,
   "id": "optical-announcement",
   "metadata": {},
   "outputs": [
    {
     "name": "stdout",
     "output_type": "stream",
     "text": [
      "     user-id                  game-title behavior-name     value  zero\n",
      "0  151603712  The Elder Scrolls V Skyrim      purchase  1.000000     0\n",
      "1  151603712  The Elder Scrolls V Skyrim          play  0.938774     0\n",
      "2  151603712                   Fallout 4      purchase  1.000000     0\n",
      "3  151603712                   Fallout 4          play  0.704746     0\n",
      "4  151603712                       Spore      purchase  1.000000     0\n",
      "5  151603712                       Spore          play  0.537181     0\n",
      "6  151603712           Fallout New Vegas      purchase  1.000000     0\n",
      "7  151603712           Fallout New Vegas          play  0.530213     0\n",
      "8  151603712               Left 4 Dead 2      purchase  1.000000     0\n",
      "9  151603712               Left 4 Dead 2          play  0.522235     0\n"
     ]
    }
   ],
   "source": [
    "import math\n",
    "\n",
    "def sigmoid(x):\n",
    "    if x == 1.0:    # why 1.0 in dataset mean max from sigmoid function not hours??\n",
    "        return x\n",
    "    else:\n",
    "        return 1 / (1 + math.exp((-1/100)*x))\n",
    "\n",
    "steam_df['value'] = steam_df['value'].apply(sigmoid)\n",
    "print(steam_df.head(10))"
   ]
  },
  {
   "cell_type": "markdown",
   "id": "actual-spotlight",
   "metadata": {},
   "source": [
    "## Pandas tasks - MovieLens dataset"
   ]
  },
  {
   "cell_type": "markdown",
   "id": "inclusive-crash",
   "metadata": {},
   "source": [
    "**Task 14\\*.** Calculate popularity (by the number of users who watched a movie) of all genres. Print a DataFrame with two columns: genre, n_users, where n_users contains the number of users who watched a given genre. Sort all genres in descending order."
   ]
  },
  {
   "cell_type": "code",
   "execution_count": 17,
   "id": "developmental-seven",
   "metadata": {},
   "outputs": [
    {
     "name": "stdout",
     "output_type": "stream",
     "text": [
      "                 genre  n_users\n",
      "0                Drama    41928\n",
      "1               Comedy    39053\n",
      "2               Action    30635\n",
      "3             Thriller    26452\n",
      "4            Adventure    24161\n",
      "5              Romance    18124\n",
      "6               Sci-Fi    17243\n",
      "7                Crime    16681\n",
      "8              Fantasy    11834\n",
      "9             Children     9208\n",
      "10             Mystery     7674\n",
      "11              Horror     7291\n",
      "12           Animation     6988\n",
      "13                 War     4859\n",
      "14                IMAX     4145\n",
      "15             Musical     4138\n",
      "16             Western     1930\n",
      "17         Documentary     1219\n",
      "18           Film-Noir      870\n",
      "19  (no genres listed)       47\n"
     ]
    }
   ],
   "source": [
    "# !!! source soluton !!!\n",
    "# https://sureshssarda.medium.com/pandas-splitting-exploding-a-column-into-multiple-rows-b1b1d59ea12e\n",
    "\n",
    "tmp = pd.DataFrame(\n",
    "        ml_df[['genres', 'userId']].genres.str.split('|').tolist(), \n",
    "        index=ml_df.userId\n",
    "    ).stack()\n",
    "    \n",
    "tmp = tmp.reset_index([0, 'userId'])\n",
    "tmp.columns = ['userId', 'genres']\n",
    "tmp = tmp.groupby('genres', as_index=False)['userId'].count().sort_values(by='userId', ascending=False).reset_index(drop=True)\n",
    "tmp.columns = ['genre', 'n_users']\n",
    "print(tmp)"
   ]
  },
  {
   "cell_type": "markdown",
   "id": "personalized-finland",
   "metadata": {},
   "source": [
    "**Task 15\\*.** Calculate average rating for all genres. Print a DataFrame with two columns: genre, rating, where rating contains the average rating for a given genre. Sort all genres in descending order."
   ]
  },
  {
   "cell_type": "code",
   "execution_count": 18,
   "id": "inside-personal",
   "metadata": {},
   "outputs": [
    {
     "name": "stdout",
     "output_type": "stream",
     "text": [
      "                 genre    rating\n",
      "0            Film-Noir  3.920115\n",
      "1                  War  3.808294\n",
      "2          Documentary  3.797785\n",
      "3                Crime  3.658294\n",
      "4                Drama  3.656184\n",
      "5              Mystery  3.632460\n",
      "6            Animation  3.629937\n",
      "7                 IMAX  3.618335\n",
      "8              Western  3.583938\n",
      "9              Musical  3.563678\n",
      "10           Adventure  3.508609\n",
      "11             Romance  3.506511\n",
      "12            Thriller  3.493706\n",
      "13             Fantasy  3.491001\n",
      "14  (no genres listed)  3.489362\n",
      "15              Sci-Fi  3.455721\n",
      "16              Action  3.447984\n",
      "17            Children  3.412956\n",
      "18              Comedy  3.384721\n",
      "19              Horror  3.258195\n"
     ]
    }
   ],
   "source": [
    "# !!! source soluton !!!\n",
    "# https://sureshssarda.medium.com/pandas-splitting-exploding-a-column-into-multiple-rows-b1b1d59ea12e\n",
    "\n",
    "tmp = pd.DataFrame(\n",
    "        ml_df[['genres', 'rating']].genres.str.split('|').tolist(), \n",
    "        index=ml_df.rating\n",
    "    ).stack()\n",
    "tmp = tmp.reset_index([0, 'rating'])\n",
    "tmp.columns = ['rating', 'genres']\n",
    "\n",
    "tmp = tmp.groupby('genres', as_index=False)['rating'].mean().sort_values(by='rating', ascending=False).reset_index(drop=True)\n",
    "tmp.columns = ['genre', 'rating']\n",
    "print(tmp)"
   ]
  },
  {
   "cell_type": "markdown",
   "id": "vertical-stick",
   "metadata": {},
   "source": [
    "**Task 17.** Calculate each movie rating bias (deviation from the mean of all movies average rating). Print first 10 in the form: title, average rating, bias."
   ]
  },
  {
   "cell_type": "code",
   "execution_count": 19,
   "id": "greatest-screen",
   "metadata": {},
   "outputs": [
    {
     "name": "stdout",
     "output_type": "stream",
     "text": [
      "                                     title  average_rating      bias\n",
      "0                               '71 (2014)        4.000000  0.498443\n",
      "1  'Hellboy': The Seeds of Creation (2004)        4.000000  0.498443\n",
      "2                   'Round Midnight (1986)        3.500000 -0.001557\n",
      "3                      'Salem's Lot (2004)        5.000000  1.498443\n",
      "4                'Til There Was You (1997)        4.000000  0.498443\n",
      "5          'Tis the Season for Love (2015)        1.500000 -2.001557\n",
      "6                       'burbs, The (1989)        3.176471 -0.325086\n",
      "7                     'night Mother (1986)        3.000000 -0.501557\n",
      "8              (500) Days of Summer (2009)        3.666667  0.165110\n",
      "9           *batteries not included (1987)        3.285714 -0.215843\n"
     ]
    }
   ],
   "source": [
    "meanOfAllMoviesRating = ml_df['rating'].mean()\n",
    "meanRatingOfEachMovie = ml_df.groupby('title', as_index=False)['rating'].mean()\n",
    "\n",
    "def ratingDeviation(rating):\n",
    "    return rating - meanOfAllMoviesRating\n",
    "\n",
    "# build structure\n",
    "tmp_df = pd.DataFrame(meanRatingOfEachMovie['title'].unique(), columns=['title']) # double [[]] to get DataFrame not Shape type\n",
    "tmp_df.insert(1, 'average_rating', meanRatingOfEachMovie['rating'])\n",
    "tmp_df.insert(2, 'bias', 0)\n",
    "\n",
    "# apply value\n",
    "tmp_df['bias'] = tmp_df.apply(lambda x: x['bias'] + ratingDeviation(x['average_rating']), axis=1)\n",
    "print(tmp_df.head(10))"
   ]
  },
  {
   "cell_type": "markdown",
   "id": "hawaiian-haiti",
   "metadata": {},
   "source": [
    "**Task 17.** Calculate each user rating bias (deviation from the mean of all users average rating). Print first 10 in the form: user_id, average rating, bias."
   ]
  },
  {
   "cell_type": "code",
   "execution_count": 20,
   "id": "charitable-guyana",
   "metadata": {},
   "outputs": [
    {
     "name": "stdout",
     "output_type": "stream",
     "text": [
      "   userId  average_rating      bias\n",
      "0       1        4.366379  0.864822\n",
      "1       2        3.948276  0.446719\n",
      "2       3        2.435897 -1.065660\n",
      "3       4        3.555556  0.053999\n",
      "4       5        3.636364  0.134807\n",
      "5       6        3.493631 -0.007926\n",
      "6       7        3.230263 -0.271294\n",
      "7       8        3.574468  0.072911\n",
      "8       9        3.260870 -0.240687\n",
      "9      10        3.278571 -0.222986\n"
     ]
    }
   ],
   "source": [
    "meanOfAllMoviesRating = ml_df['rating'].mean()\n",
    "meanRatingOfEachUser = ml_df.groupby('userId', as_index=False)['rating'].mean()\n",
    "\n",
    "def ratingDeviation(rating):\n",
    "    return rating - meanOfAllMoviesRating\n",
    "\n",
    "# build structure\n",
    "tmp_df = pd.DataFrame(meanRatingOfEachUser['userId'].unique(), columns=['userId']) # double [[]] to get DataFrame not Shape type\n",
    "tmp_df.insert(1, 'average_rating', meanRatingOfEachUser['rating'])\n",
    "tmp_df.insert(2, 'bias', 0)\n",
    "\n",
    "# apply value\n",
    "tmp_df['bias'] = tmp_df.apply(lambda x: x['bias'] + ratingDeviation(x['average_rating']), axis=1)\n",
    "print(tmp_df.head(10))"
   ]
  },
  {
   "cell_type": "markdown",
   "id": "intimate-porcelain",
   "metadata": {},
   "source": [
    "**Task 18.** Randomly choose 10 movies and 10 users and print their interaction matrix in the form of a DataFrame with user_id as index and movie titles as columns. You can iterate over the DataFrame in this task."
   ]
  },
  {
   "cell_type": "code",
   "execution_count": 21,
   "id": "brazilian-frost",
   "metadata": {},
   "outputs": [
    {
     "name": "stdout",
     "output_type": "stream",
     "text": [
      "     Father of the Bride (1950)  Matrix, The (1999)  Howards End (1992)  \\\n",
      "11                          0.0                 0.0                 0.0   \n",
      "277                         0.0                 0.0                 0.0   \n",
      "286                         0.0                 1.0                 0.0   \n",
      "357                         0.0                 0.0                 0.0   \n",
      "414                         0.0                 1.0                 0.0   \n",
      "428                         0.0                 1.0                 0.0   \n",
      "470                         0.0                 0.0                 0.0   \n",
      "487                         0.0                 1.0                 0.0   \n",
      "543                         0.0                 1.0                 0.0   \n",
      "544                         0.0                 0.0                 0.0   \n",
      "\n",
      "     Thirteen Conversations About One Thing (a.k.a. 13 Conversations) (2001)  \\\n",
      "11                                                 0.0                         \n",
      "277                                                0.0                         \n",
      "286                                                0.0                         \n",
      "357                                                0.0                         \n",
      "414                                                1.0                         \n",
      "428                                                0.0                         \n",
      "470                                                0.0                         \n",
      "487                                                0.0                         \n",
      "543                                                0.0                         \n",
      "544                                                0.0                         \n",
      "\n",
      "     It Runs in the Family (2003)  I Love You to Death (1990)  \\\n",
      "11                            0.0                         0.0   \n",
      "277                           0.0                         0.0   \n",
      "286                           0.0                         0.0   \n",
      "357                           0.0                         0.0   \n",
      "414                           0.0                         0.0   \n",
      "428                           0.0                         0.0   \n",
      "470                           0.0                         0.0   \n",
      "487                           0.0                         0.0   \n",
      "543                           0.0                         0.0   \n",
      "544                           0.0                         0.0   \n",
      "\n",
      "     Bedazzled (1967)  I Don't Know How She Does It (2011)  \\\n",
      "11                0.0                                  0.0   \n",
      "277               0.0                                  0.0   \n",
      "286               0.0                                  0.0   \n",
      "357               0.0                                  0.0   \n",
      "414               0.0                                  0.0   \n",
      "428               0.0                                  0.0   \n",
      "470               0.0                                  0.0   \n",
      "487               0.0                                  0.0   \n",
      "543               0.0                                  0.0   \n",
      "544               0.0                                  0.0   \n",
      "\n",
      "     Wind Rises, The (Kaze tachinu) (2013)  Night Guards (2016)  \n",
      "11                                     0.0                  0.0  \n",
      "277                                    0.0                  0.0  \n",
      "286                                    0.0                  0.0  \n",
      "357                                    0.0                  0.0  \n",
      "414                                    0.0                  0.0  \n",
      "428                                    0.0                  0.0  \n",
      "470                                    0.0                  0.0  \n",
      "487                                    0.0                  0.0  \n",
      "543                                    0.0                  0.0  \n",
      "544                                    0.0                  0.0  \n"
     ]
    }
   ],
   "source": [
    "# https://www.statology.org/pandas-select-rows-by-index/\n",
    "\n",
    "userIdxs = [11, 277, 286, 357, 414, 428, 470, 487, 543, 544]\n",
    "movieNames = [\"Father of the Bride (1950)\", \"Matrix, The (1999)\", \"Howards End (1992)\", \"Thirteen Conversations About One Thing (a.k.a. 13 Conversations) (2001)\", \"It Runs in the Family (2003)\", \"I Love You to Death (1990)\", \"Bedazzled (1967)\", \"I Don't Know How She Does It (2011)\", \"Wind Rises, The (Kaze tachinu) (2013)\", \"Night Guards (2016)\"]\n",
    "\n",
    "#print(ml_df.loc[(ml_df['userId'] == 286) & (ml_df['title'] == \"Matrix, The (1999)\")].empty)\n",
    "\n",
    "interactionMatrix = pd.DataFrame(0.0, index=userIdxs, columns=movieNames)\n",
    "\n",
    "for userIdx in userIdxs:\n",
    "    for movieName in movieNames:\n",
    "        \n",
    "            \n",
    "        if ml_df.loc[(ml_df['userId'] == userIdx) & (ml_df['title'] == movieName)].empty == False:\n",
    "            interactionMatrix.loc[userIdx][movieName] = 1.0\n",
    "        \n",
    "        #if userIdx == 286 and movieName == \"Matrix, The (1999)\":\n",
    "        #    print(ml_df.loc[(ml_df['userId'] == userIdx) & (ml_df['title'] == movieName)].empty)\n",
    "        #    print(interactionMatrix.loc[userIdx][movieName])\n",
    "print(interactionMatrix)"
   ]
  },
  {
   "cell_type": "markdown",
   "id": "boolean-modem",
   "metadata": {},
   "source": [
    "## Pandas + numpy tasks"
   ]
  },
  {
   "cell_type": "markdown",
   "id": "worldwide-disclaimer",
   "metadata": {},
   "source": [
    "**Task 19.** Create the entire interaction matrix for the MovieLens dataset. Print the submatrix of first 10 rows and 10 columns."
   ]
  },
  {
   "cell_type": "code",
   "execution_count": 22,
   "id": "marine-initial",
   "metadata": {},
   "outputs": [
    {
     "data": {
      "text/plain": [
       "array([[0., 0., 0., 0., 0., 0., 0., 0., 0., 0.],\n",
       "       [0., 1., 0., 1., 0., 0., 1., 0., 0., 0.],\n",
       "       [0., 0., 0., 0., 0., 0., 0., 0., 0., 0.],\n",
       "       [0., 0., 0., 0., 0., 0., 0., 0., 0., 0.],\n",
       "       [0., 0., 0., 0., 0., 0., 0., 0., 0., 0.],\n",
       "       [0., 1., 0., 0., 0., 0., 0., 0., 0., 0.],\n",
       "       [0., 0., 1., 1., 1., 1., 1., 1., 1., 0.],\n",
       "       [0., 1., 0., 0., 0., 0., 0., 0., 0., 0.],\n",
       "       [0., 0., 1., 0., 0., 0., 0., 0., 0., 0.],\n",
       "       [0., 0., 0., 0., 0., 0., 0., 0., 0., 0.]])"
      ]
     },
     "execution_count": 22,
     "metadata": {},
     "output_type": "execute_result"
    }
   ],
   "source": [
    "interactiveMatrix = np.zeros([ml_df['userId'].max() + 1, ml_df['movieId'].max() + 1])\n",
    "\n",
    "for idx, row in ml_df.iterrows():\n",
    "    interactiveMatrix[row['userId'], row['movieId']] = 1\n",
    "\n",
    "interactiveMatrix[:10, :10]"
   ]
  },
  {
   "cell_type": "markdown",
   "id": "micro-vision",
   "metadata": {},
   "source": [
    "**Task 20.** Calculate the matrix of size (n_users, n_users) where at position (i, j) there is the number of movies watched both by user i and user j. Print the submatrix of first 10 rows and 10 columns."
   ]
  },
  {
   "cell_type": "code",
   "execution_count": 23,
   "id": "swedish-lambda",
   "metadata": {},
   "outputs": [
    {
     "data": {
      "text/plain": [
       "array([[  0.,   0.,   0.,   0.,   0.,   0.,   0.,   0.,   0.,   0.],\n",
       "       [  0., 232.,   2.,   7.,  45.,  13.,  33.,  26.,  15.,   5.],\n",
       "       [  0.,   2.,  29.,   0.,   1.,   1.,   2.,   3.,   1.,   0.],\n",
       "       [  0.,   7.,   0.,  39.,   1.,   1.,   3.,   0.,   1.,   0.],\n",
       "       [  0.,  45.,   1.,   1., 216.,  12.,  27.,  22.,   9.,   1.],\n",
       "       [  0.,  13.,   1.,   1.,  12.,  44.,  36.,   9.,  19.,   0.],\n",
       "       [  0.,  33.,   2.,   3.,  27.,  36., 314.,  14.,  44.,   2.],\n",
       "       [  0.,  26.,   3.,   0.,  22.,   9.,  14., 152.,   8.,   6.],\n",
       "       [  0.,  15.,   1.,   1.,   9.,  19.,  44.,   8.,  47.,   0.],\n",
       "       [  0.,   5.,   0.,   0.,   1.,   0.,   2.,   6.,   0.,  46.]])"
      ]
     },
     "execution_count": 23,
     "metadata": {},
     "output_type": "execute_result"
    }
   ],
   "source": [
    "interactiveMatrix = np.zeros([ml_df['userId'].max() + 1, ml_df['movieId'].max() + 1])\n",
    "\n",
    "for idx, row in ml_df.iterrows():\n",
    "    interactiveMatrix[row['userId'], row['movieId']] = 1\n",
    "\n",
    "wached_users = np.matmul(interactiveMatrix, interactiveMatrix.T)\n",
    "wached_users[:10, :10]"
   ]
  },
  {
   "cell_type": "markdown",
   "id": "shaped-advance",
   "metadata": {},
   "source": [
    "**Task 21.** Calculate the matrix of size (n_items, n_items) where at position (i, j) there is the number of users who watched both movie i and movie j. To prevent hanging your computer because of RAM shortage use only the first 1000 items. Print the submatrix of first 10 rows and 10 columns."
   ]
  },
  {
   "cell_type": "code",
   "execution_count": null,
   "id": "quality-bubble",
   "metadata": {},
   "outputs": [],
   "source": [
    "# wrong code\n",
    "interactiveMatrix = np.zeros([ml_df['userId'].max() + 1, ml_df['movieId'].max() + 1])\n",
    "\n",
    "for idx, row in ml_df.iterrows():\n",
    "    interactiveMatrix[row['userId'], row['movieId']] = 1\n",
    "\n",
    "wached_movies = np.matmul(interactiveMatrix[:1000].T, interactiveMatrix[:1000])\n",
    "wached_movies[:10, :10]"
   ]
  }
 ],
 "metadata": {
  "kernelspec": {
   "display_name": "Python 3 (ipykernel)",
   "language": "python",
   "name": "python3"
  },
  "language_info": {
   "codemirror_mode": {
    "name": "ipython",
    "version": 3
   },
   "file_extension": ".py",
   "mimetype": "text/x-python",
   "name": "python",
   "nbconvert_exporter": "python",
   "pygments_lexer": "ipython3",
   "version": "3.8.10"
  }
 },
 "nbformat": 4,
 "nbformat_minor": 5
}
