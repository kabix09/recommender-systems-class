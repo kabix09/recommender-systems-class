{
 "cells": [
  {
   "cell_type": "markdown",
   "id": "downtown-trading",
   "metadata": {},
   "source": [
    "# Dimensionality reduction and optimization"
   ]
  },
  {
   "cell_type": "code",
   "execution_count": 1,
   "id": "verified-accommodation",
   "metadata": {},
   "outputs": [],
   "source": [
    "%matplotlib inline\n",
    "%load_ext autoreload\n",
    "%autoreload 2\n",
    "\n",
    "import numpy as np\n",
    "import pandas as pd\n",
    "import matplotlib.pyplot as plt\n",
    "import seaborn as sns\n",
    "from IPython.display import Markdown, display, HTML\n",
    "from collections import defaultdict\n",
    "\n",
    "np.set_printoptions(edgeitems=10, linewidth=500)\n",
    "\n",
    "# Fix the dying kernel problem (only a problem in some installations - you can remove it, if it works without it)\n",
    "import os\n",
    "os.environ['KMP_DUPLICATE_LIB_OK'] = 'True'"
   ]
  },
  {
   "cell_type": "markdown",
   "id": "educated-tourist",
   "metadata": {},
   "source": [
    "## Load data"
   ]
  },
  {
   "cell_type": "code",
   "execution_count": 2,
   "id": "rough-editing",
   "metadata": {},
   "outputs": [],
   "source": [
    "seed = 6779\n",
    "rng = np.random.RandomState(seed)"
   ]
  },
  {
   "cell_type": "code",
   "execution_count": 3,
   "id": "looking-feeling",
   "metadata": {},
   "outputs": [
    {
     "data": {
      "text/html": [
       "<div>\n",
       "<style scoped>\n",
       "    .dataframe tbody tr th:only-of-type {\n",
       "        vertical-align: middle;\n",
       "    }\n",
       "\n",
       "    .dataframe tbody tr th {\n",
       "        vertical-align: top;\n",
       "    }\n",
       "\n",
       "    .dataframe thead th {\n",
       "        text-align: right;\n",
       "    }\n",
       "</style>\n",
       "<table border=\"1\" class=\"dataframe\">\n",
       "  <thead>\n",
       "    <tr style=\"text-align: right;\">\n",
       "      <th></th>\n",
       "      <th>item_id</th>\n",
       "      <th>title</th>\n",
       "      <th>genres</th>\n",
       "    </tr>\n",
       "  </thead>\n",
       "  <tbody>\n",
       "    <tr>\n",
       "      <th>0</th>\n",
       "      <td>1</td>\n",
       "      <td>Toy Story (1995)</td>\n",
       "      <td>Adventure|Animation|Children|Comedy|Fantasy</td>\n",
       "    </tr>\n",
       "    <tr>\n",
       "      <th>277</th>\n",
       "      <td>318</td>\n",
       "      <td>Shawshank Redemption, The (1994)</td>\n",
       "      <td>Crime|Drama</td>\n",
       "    </tr>\n",
       "    <tr>\n",
       "      <th>896</th>\n",
       "      <td>1193</td>\n",
       "      <td>One Flew Over the Cuckoo's Nest (1975)</td>\n",
       "      <td>Drama</td>\n",
       "    </tr>\n",
       "    <tr>\n",
       "      <th>909</th>\n",
       "      <td>1208</td>\n",
       "      <td>Apocalypse Now (1979)</td>\n",
       "      <td>Action|Drama|War</td>\n",
       "    </tr>\n",
       "    <tr>\n",
       "      <th>915</th>\n",
       "      <td>1214</td>\n",
       "      <td>Alien (1979)</td>\n",
       "      <td>Horror|Sci-Fi</td>\n",
       "    </tr>\n",
       "    <tr>\n",
       "      <th>1291</th>\n",
       "      <td>1721</td>\n",
       "      <td>Titanic (1997)</td>\n",
       "      <td>Drama|Romance</td>\n",
       "    </tr>\n",
       "    <tr>\n",
       "      <th>2226</th>\n",
       "      <td>2959</td>\n",
       "      <td>Fight Club (1999)</td>\n",
       "      <td>Action|Crime|Drama|Thriller</td>\n",
       "    </tr>\n",
       "    <tr>\n",
       "      <th>2674</th>\n",
       "      <td>3578</td>\n",
       "      <td>Gladiator (2000)</td>\n",
       "      <td>Action|Adventure|Drama</td>\n",
       "    </tr>\n",
       "    <tr>\n",
       "      <th>3194</th>\n",
       "      <td>4306</td>\n",
       "      <td>Shrek (2001)</td>\n",
       "      <td>Adventure|Animation|Children|Comedy|Fantasy|Ro...</td>\n",
       "    </tr>\n",
       "    <tr>\n",
       "      <th>8376</th>\n",
       "      <td>109487</td>\n",
       "      <td>Interstellar (2014)</td>\n",
       "      <td>Sci-Fi|IMAX</td>\n",
       "    </tr>\n",
       "  </tbody>\n",
       "</table>\n",
       "</div>"
      ],
      "text/plain": [
       "      item_id                                   title  \\\n",
       "0           1                        Toy Story (1995)   \n",
       "277       318        Shawshank Redemption, The (1994)   \n",
       "896      1193  One Flew Over the Cuckoo's Nest (1975)   \n",
       "909      1208                   Apocalypse Now (1979)   \n",
       "915      1214                            Alien (1979)   \n",
       "1291     1721                          Titanic (1997)   \n",
       "2226     2959                       Fight Club (1999)   \n",
       "2674     3578                        Gladiator (2000)   \n",
       "3194     4306                            Shrek (2001)   \n",
       "8376   109487                     Interstellar (2014)   \n",
       "\n",
       "                                                 genres  \n",
       "0           Adventure|Animation|Children|Comedy|Fantasy  \n",
       "277                                         Crime|Drama  \n",
       "896                                               Drama  \n",
       "909                                    Action|Drama|War  \n",
       "915                                       Horror|Sci-Fi  \n",
       "1291                                      Drama|Romance  \n",
       "2226                        Action|Crime|Drama|Thriller  \n",
       "2674                             Action|Adventure|Drama  \n",
       "3194  Adventure|Animation|Children|Comedy|Fantasy|Ro...  \n",
       "8376                                        Sci-Fi|IMAX  "
      ]
     },
     "metadata": {},
     "output_type": "display_data"
    },
    {
     "name": "stdout",
     "output_type": "stream",
     "text": [
      "Number of interactions left: 1689\n"
     ]
    }
   ],
   "source": [
    "ml_ratings_df = pd.read_csv(os.path.join(\"data\", \"movielens_small\", \"ratings.csv\")).rename(columns={'userId': 'user_id', 'movieId': 'item_id'})\n",
    "ml_movies_df = pd.read_csv(os.path.join(\"data\", \"movielens_small\", \"movies.csv\")).rename(columns={'movieId': 'item_id'})\n",
    "ml_df = pd.merge(ml_ratings_df, ml_movies_df, on='item_id')\n",
    "\n",
    "# Filter the data to reduce the number of movies\n",
    "left_ids = [1, 318, 1193, 1208, 1214, 1721, 2959, 3578, 4306, 109487]\n",
    "\n",
    "ml_ratings_df = ml_ratings_df.loc[ml_ratings_df['item_id'].isin(left_ids)]\n",
    "ml_movies_df = ml_movies_df.loc[ml_movies_df['item_id'].isin(left_ids)]\n",
    "ml_df = ml_df.loc[ml_df['item_id'].isin(left_ids)]\n",
    "\n",
    "display(ml_movies_df)\n",
    "\n",
    "print(\"Number of interactions left: {}\".format(len(ml_ratings_df)))"
   ]
  },
  {
   "cell_type": "markdown",
   "id": "plastic-brooklyn",
   "metadata": {},
   "source": [
    "## Shift item ids and user ids so that they are consecutive"
   ]
  },
  {
   "cell_type": "code",
   "execution_count": 4,
   "id": "valuable-modem",
   "metadata": {},
   "outputs": [
    {
     "data": {
      "text/html": [
       "<div>\n",
       "<style scoped>\n",
       "    .dataframe tbody tr th:only-of-type {\n",
       "        vertical-align: middle;\n",
       "    }\n",
       "\n",
       "    .dataframe tbody tr th {\n",
       "        vertical-align: top;\n",
       "    }\n",
       "\n",
       "    .dataframe thead th {\n",
       "        text-align: right;\n",
       "    }\n",
       "</style>\n",
       "<table border=\"1\" class=\"dataframe\">\n",
       "  <thead>\n",
       "    <tr style=\"text-align: right;\">\n",
       "      <th></th>\n",
       "      <th>user_id</th>\n",
       "      <th>item_id</th>\n",
       "      <th>rating</th>\n",
       "      <th>timestamp</th>\n",
       "    </tr>\n",
       "  </thead>\n",
       "  <tbody>\n",
       "    <tr>\n",
       "      <th>0</th>\n",
       "      <td>0</td>\n",
       "      <td>0</td>\n",
       "      <td>4.0</td>\n",
       "      <td>964982703</td>\n",
       "    </tr>\n",
       "    <tr>\n",
       "      <th>72</th>\n",
       "      <td>0</td>\n",
       "      <td>1</td>\n",
       "      <td>4.0</td>\n",
       "      <td>964983250</td>\n",
       "    </tr>\n",
       "    <tr>\n",
       "      <th>75</th>\n",
       "      <td>0</td>\n",
       "      <td>2</td>\n",
       "      <td>4.0</td>\n",
       "      <td>964981855</td>\n",
       "    </tr>\n",
       "    <tr>\n",
       "      <th>192</th>\n",
       "      <td>0</td>\n",
       "      <td>3</td>\n",
       "      <td>5.0</td>\n",
       "      <td>964983282</td>\n",
       "    </tr>\n",
       "    <tr>\n",
       "      <th>219</th>\n",
       "      <td>0</td>\n",
       "      <td>4</td>\n",
       "      <td>5.0</td>\n",
       "      <td>964980668</td>\n",
       "    </tr>\n",
       "    <tr>\n",
       "      <th>232</th>\n",
       "      <td>1</td>\n",
       "      <td>5</td>\n",
       "      <td>3.0</td>\n",
       "      <td>1445714835</td>\n",
       "    </tr>\n",
       "    <tr>\n",
       "      <th>235</th>\n",
       "      <td>1</td>\n",
       "      <td>4</td>\n",
       "      <td>4.0</td>\n",
       "      <td>1445714885</td>\n",
       "    </tr>\n",
       "    <tr>\n",
       "      <th>255</th>\n",
       "      <td>1</td>\n",
       "      <td>6</td>\n",
       "      <td>3.0</td>\n",
       "      <td>1445715145</td>\n",
       "    </tr>\n",
       "    <tr>\n",
       "      <th>458</th>\n",
       "      <td>2</td>\n",
       "      <td>3</td>\n",
       "      <td>2.0</td>\n",
       "      <td>945078528</td>\n",
       "    </tr>\n",
       "    <tr>\n",
       "      <th>516</th>\n",
       "      <td>3</td>\n",
       "      <td>0</td>\n",
       "      <td>4.0</td>\n",
       "      <td>847434962</td>\n",
       "    </tr>\n",
       "  </tbody>\n",
       "</table>\n",
       "</div>"
      ],
      "text/plain": [
       "     user_id  item_id  rating   timestamp\n",
       "0          0        0     4.0   964982703\n",
       "72         0        1     4.0   964983250\n",
       "75         0        2     4.0   964981855\n",
       "192        0        3     5.0   964983282\n",
       "219        0        4     5.0   964980668\n",
       "232        1        5     3.0  1445714835\n",
       "235        1        4     4.0  1445714885\n",
       "255        1        6     3.0  1445715145\n",
       "458        2        3     2.0   945078528\n",
       "516        3        0     4.0   847434962"
      ]
     },
     "metadata": {},
     "output_type": "display_data"
    }
   ],
   "source": [
    "interactions_df = ml_ratings_df.copy()\n",
    "\n",
    "unique_item_ids = interactions_df['item_id'].unique()\n",
    "item_id_mapping = dict(zip(unique_item_ids, list(range(len(unique_item_ids)))))\n",
    "item_id_reverse_mapping = dict(zip(list(range(len(unique_item_ids))), unique_item_ids))\n",
    "unique_user_ids = interactions_df['user_id'].unique()\n",
    "user_id_mapping = dict(zip(unique_user_ids, list(range(len(unique_user_ids)))))\n",
    "user_id_reverse_mapping = dict(zip(list(range(len(unique_user_ids))), unique_user_ids))\n",
    "\n",
    "interactions_df.replace({'item_id': item_id_mapping, 'user_id': user_id_mapping}, inplace=True)\n",
    "\n",
    "display(interactions_df.head(10))"
   ]
  },
  {
   "cell_type": "markdown",
   "id": "basic-meeting",
   "metadata": {},
   "source": [
    "## Get the number of items and users"
   ]
  },
  {
   "cell_type": "code",
   "execution_count": 5,
   "id": "close-massachusetts",
   "metadata": {},
   "outputs": [
    {
     "name": "stdout",
     "output_type": "stream",
     "text": [
      "n_items=10\n",
      "n_users=521\n"
     ]
    }
   ],
   "source": [
    "n_items = np.max(interactions_df['item_id']) + 1\n",
    "n_users = np.max(interactions_df['user_id']) + 1\n",
    "\n",
    "print(\"n_items={}\\nn_users={}\".format(n_items, n_users))"
   ]
  },
  {
   "cell_type": "markdown",
   "id": "acknowledged-threshold",
   "metadata": {},
   "source": [
    "## Get the user-item interaction matrix"
   ]
  },
  {
   "cell_type": "code",
   "execution_count": 6,
   "id": "extraordinary-mexico",
   "metadata": {},
   "outputs": [
    {
     "name": "stdout",
     "output_type": "stream",
     "text": [
      "[[1. 1. 1. 1. 1. 0. 0. 0. 0. 0.]\n",
      " [0. 0. 0. 0. 1. 1. 1. 0. 0. 0.]\n",
      " [0. 0. 0. 1. 0. 0. 0. 0. 0. 0.]\n",
      " [1. 0. 0. 0. 0. 1. 0. 0. 0. 0.]\n",
      " [0. 0. 0. 0. 0. 1. 0. 0. 0. 0.]\n",
      " [1. 1. 0. 0. 1. 0. 0. 1. 0. 0.]\n",
      " [0. 0. 0. 0. 0. 1. 0. 0. 0. 0.]\n",
      " [0. 0. 0. 1. 1. 0. 1. 1. 0. 0.]\n",
      " [0. 0. 0. 0. 0. 1. 0. 0. 1. 0.]\n",
      " [0. 0. 0. 0. 0. 0. 0. 0. 1. 0.]\n",
      " ...\n",
      " [1. 0. 0. 1. 1. 1. 1. 1. 1. 1.]\n",
      " [0. 0. 0. 0. 0. 1. 0. 0. 0. 0.]\n",
      " [1. 1. 1. 1. 1. 0. 0. 0. 1. 1.]\n",
      " [1. 0. 0. 0. 0. 0. 0. 0. 0. 0.]\n",
      " [1. 0. 0. 0. 0. 0. 0. 1. 0. 0.]\n",
      " [1. 1. 1. 1. 1. 1. 0. 1. 1. 1.]\n",
      " [1. 0. 1. 0. 0. 1. 0. 0. 0. 0.]\n",
      " [1. 1. 1. 1. 1. 1. 0. 1. 1. 1.]\n",
      " [1. 0. 0. 0. 0. 1. 0. 0. 0. 0.]\n",
      " [1. 1. 1. 1. 1. 1. 1. 1. 1. 0.]]\n"
     ]
    }
   ],
   "source": [
    "# mapping to int is necessary because of how iterrows works\n",
    "r = np.zeros(shape=(n_users, n_items))\n",
    "for idx, interaction in interactions_df.iterrows():\n",
    "    r[int(interaction['user_id'])][int(interaction['item_id'])] = 1\n",
    "    \n",
    "print(r)"
   ]
  },
  {
   "cell_type": "markdown",
   "id": "lovely-password",
   "metadata": {},
   "source": [
    "# Dimensionality reduction"
   ]
  },
  {
   "cell_type": "markdown",
   "id": "alien-performance",
   "metadata": {},
   "source": [
    "## PCA (Principal Component Analysis)"
   ]
  },
  {
   "cell_type": "markdown",
   "id": "friendly-necklace",
   "metadata": {},
   "source": [
    "**Task 1.** Apply PCA (Principal Component Analysis) to the rows (user representations) of the interaction matrix into two dimensions. Use sklearn.decomposition.PCA. Set the transformed rows to the pca_reduced_r variable."
   ]
  },
  {
   "cell_type": "code",
   "execution_count": 7,
   "id": "rubber-detector",
   "metadata": {},
   "outputs": [],
   "source": [
    "from sklearn.decomposition import PCA\n",
    "\n",
    "pca = PCA(n_components=2)\n",
    "pca.fit(r)\n",
    "pca_reduced_r = pca.transform(r)"
   ]
  },
  {
   "cell_type": "markdown",
   "id": "speaking-aberdeen",
   "metadata": {},
   "source": [
    "### Plot the reduced data"
   ]
  },
  {
   "cell_type": "code",
   "execution_count": 8,
   "id": "emotional-colors",
   "metadata": {},
   "outputs": [],
   "source": [
    "def plot_unique_datapoints_2d(data, tolerance=0.000001):\n",
    "    \n",
    "    max_value = np.max(np.abs(data))\n",
    "    \n",
    "    # Round the data so that points closer than tolerance are mapped into the same coordinates\n",
    "    \n",
    "    rounded_data = np.round(data, int(np.log10(1 / tolerance)))\n",
    "    \n",
    "    # Choose the first representative from each group mapped into the same coordinates\n",
    "    \n",
    "    unique_representations, indices = np.unique(rounded_data, return_index=True, axis=0)\n",
    "    \n",
    "    # Plot\n",
    "\n",
    "    fig = plt.figure(tight_layout=True)\n",
    "    fig.set_size_inches(16, 9)\n",
    "    ax1 = fig.add_subplot(1, 1, 1)\n",
    "\n",
    "    sns.scatterplot(x=data[indices, 0], y=data[indices, 1], ax=ax1)\n",
    "\n",
    "    for i in indices:\n",
    "        plt.text(x=data[i, 0] + max_value / 150, y=data[i, 1] + max_value / 150, s=i, \n",
    "                 fontdict=dict(color='red', size=8))\n",
    "\n",
    "    plt.show()"
   ]
  },
  {
   "cell_type": "code",
   "execution_count": 9,
   "id": "neural-moses",
   "metadata": {},
   "outputs": [
    {
     "data": {
      "image/png": "[encoded data removed]",
      "text/plain": [
       "<Figure size 1152x648 with 1 Axes>"
      ]
     },
     "metadata": {
      "needs_background": "light"
     },
     "output_type": "display_data"
    }
   ],
   "source": [
    "plot_unique_datapoints_2d(pca_reduced_r, tolerance=0.1)"
   ]
  },
  {
   "cell_type": "markdown",
   "id": "unusual-birmingham",
   "metadata": {},
   "source": [
    "### Print representations for chosen pairs of users close on the graph\n",
    "\n",
    "Notice that their initial represenation in the interaction matrix was also similar."
   ]
  },
  {
   "cell_type": "code",
   "execution_count": 16,
   "id": "virtual-affiliate",
   "metadata": {},
   "outputs": [],
   "source": [
    "def print_representations(chosen_user_id_groups, representations, reduced_representations):\n",
    "    for user_id_group in chosen_user_id_groups:\n",
    "        for user_id in user_id_group:\n",
    "            print(\"User {} full representation and reduced representation\".format(user_id))\n",
    "            print(representations[user_id])\n",
    "            print(reduced_representations[user_id])\n",
    "            print()\n",
    "        print(\"==============================\")"
   ]
  },
  {
   "cell_type": "code",
   "execution_count": 17,
   "id": "duplicate-approval",
   "metadata": {},
   "outputs": [
    {
     "name": "stdout",
     "output_type": "stream",
     "text": [
      "User 0 full representation and reduced representation\n",
      "[1. 1. 1. 1. 1. 0. 0. 0. 0. 0.]\n",
      "[0.71220087 0.59638113]\n",
      "\n",
      "User 16 full representation and reduced representation\n",
      "[1. 0. 1. 1. 1. 0. 0. 0. 0. 1.]\n",
      "[0.75940893 0.48017106]\n",
      "\n",
      "==============================\n",
      "User 133 full representation and reduced representation\n",
      "[0. 0. 0. 0. 0. 0. 1. 0. 0. 0.]\n",
      "[-0.86837121  0.209291  ]\n",
      "\n",
      "User 52 full representation and reduced representation\n",
      "[0. 1. 0. 0. 0. 0. 0. 0. 0. 0.]\n",
      "[-0.73578375  0.28942663]\n",
      "\n",
      "==============================\n",
      "User 75 full representation and reduced representation\n",
      "[1. 0. 1. 0. 1. 0. 0. 1. 1. 0.]\n",
      "[0.74855292 1.3185605 ]\n",
      "\n",
      "User 159 full representation and reduced representation\n",
      "[1. 0. 1. 0. 1. 0. 0. 1. 0. 1.]\n",
      "[0.71896426 1.02657416]\n",
      "\n",
      "==============================\n",
      "User 279 full representation and reduced representation\n",
      "[0. 0. 0. 1. 1. 1. 1. 0. 0. 1.]\n",
      "[ 0.44354981 -0.95868608]\n",
      "\n",
      "User 346 full representation and reduced representation\n",
      "[0. 0. 0. 1. 1. 1. 0. 0. 0. 1.]\n",
      "[ 0.32812798 -0.8813742 ]\n",
      "\n",
      "==============================\n",
      "User 15 full representation and reduced representation\n",
      "[1. 1. 1. 1. 1. 1. 1. 1. 1. 1.]\n",
      "[2.01569206 0.01857922]\n",
      "\n",
      "User 61 full representation and reduced representation\n",
      "[1. 1. 1. 1. 1. 1. 0. 1. 1. 1.]\n",
      "[1.90027024 0.09589109]\n",
      "\n",
      "==============================\n"
     ]
    }
   ],
   "source": [
    "chosen_user_ids = [(0, 16), (133, 52), (75, 159), (279, 346), (15, 61)]\n",
    "print_representations(chosen_user_ids, r, pca_reduced_r)"
   ]
  },
  {
   "cell_type": "markdown",
   "id": "exempt-barcelona",
   "metadata": {},
   "source": [
    "### Topology of distant datapoints"
   ]
  },
  {
   "cell_type": "markdown",
   "id": "disturbed-extraction",
   "metadata": {},
   "source": [
    "**Task 2.** Write a method which returns a pair of indices of datapoints with the highest discrepancy between the distance in the reduced space and the original distance measured as:\n",
    "\n",
    "<center>\n",
    "$$\n",
    "    \\frac{d(x_{reduced}, y_{reduced})}{\\text{max}(d(x, y), 0.001)}\n",
    "$$\n",
    "</center>\n",
    "\n",
    "where $d$ is the Euclidean distance. The interface for the method:\n",
    "\n",
    "    find_poorest_reduction(orig_data, reduced_data)\n",
    "\n",
    "Find the pair of user ids with the highest discrepancy for the PCA reduction and set those ids to pca_user_id_1 and pca_user_id_2.\n",
    "\n",
    "You can a loop over all pairs."
   ]
  },
  {
   "cell_type": "code",
   "execution_count": 18,
   "id": "biblical-penalty",
   "metadata": {},
   "outputs": [],
   "source": [
    "# Write your code here\n",
    "# znajdz pate userow ktorzy w przstzreni zredujowanej maja mal odleglosc\n",
    "# a w oryginalnej duza\n",
    "\n",
    "# licznik duza niezredukowana w mianowniku\n",
    "\n",
    "# odwrotny wzor!!!\n",
    "\n",
    "def find_poorest_reduction(orig_data, reduced_data):\n",
    "    # taka para, ze w zredukowanej niewielka odległość, w oryginalnej wielka\n",
    "    \n",
    "    maximum = -1\n",
    "    user_ids = [-1, -1]\n",
    "    \n",
    "    for user_id_x, row1 in enumerate(orig_data):\n",
    "        for user_id_y, row2 in enumerate(orig_data):\n",
    "            reduced_euc = np.linalg.norm(reduced_data[user_id_x] - reduced_data[user_id_y])\n",
    "            original_euc = np.linalg.norm(orig_data[user_id_x] - orig_data[user_id_y])\n",
    "            \n",
    "            distance = original_euc / max(reduced_euc, 0.001)\n",
    "        \n",
    "            if (maximum < distance):\n",
    "                maximum = distance\n",
    "                user_ids[0] = user_id_x\n",
    "                user_ids[1] = user_id_y\n",
    "        \n",
    "    print(maximum)\n",
    "    return user_ids[0], user_ids[1]\n",
    "        \n",
    "    \n",
    "#display(r)\n",
    "#display(pca_reduced_r)\n",
    "    \n",
    "    \n",
    "# def find_poorest_reduction(orig_data, reduced_data):\n",
    "    \n",
    "#     m_id_1 = 0\n",
    "#     m_id_2 = 0\n",
    "#     total_max_d = -1\n",
    "#     max_d = 0\n",
    "    \n",
    "#     for id_1 in range(len(r)):\n",
    "#         for id_2 in range(len(r)):\n",
    "#             d = np.sqrt(np.sum(np.power(reduced_data[id_1] - reduced_data[id_2], 2)))\n",
    "#             if d > total_max_d:\n",
    "#                 total_max_d = d\n",
    "\n",
    "#     for id_1 in range(len(r)):\n",
    "#         for id_2 in range(len(r)):\n",
    "#             d = np.sqrt(np.sum(np.power(orig_data[id_1] - orig_data[id_2], 2))) \\\n",
    "#                 / (np.sqrt(np.sum(np.power(reduced_data[id_1] - reduced_data[id_2], 2))) + total_max_d / 100)\n",
    "#             if d > max_d:\n",
    "#                 m_id_1 = id_1\n",
    "#                 m_id_2 = id_2\n",
    "#                 max_d = d\n",
    "    \n",
    "#     return m_id_1, m_id_2"
   ]
  },
  {
   "cell_type": "code",
   "execution_count": 19,
   "id": "annoying-wildlife",
   "metadata": {},
   "outputs": [
    {
     "name": "stdout",
     "output_type": "stream",
     "text": [
      "230.215241883951\n"
     ]
    }
   ],
   "source": [
    "pca_user_id_1, pca_user_id_2 = find_poorest_reduction(r, pca_reduced_r)"
   ]
  },
  {
   "cell_type": "code",
   "execution_count": 20,
   "id": "fancy-constant",
   "metadata": {},
   "outputs": [
    {
     "name": "stdout",
     "output_type": "stream",
     "text": [
      "User 200 full representation and reduced representation\n",
      "[1. 0. 1. 0. 0. 0. 0. 1. 0. 0.]\n",
      "[0.01553392 1.08244439]\n",
      "\n",
      "User 241 full representation and reduced representation\n",
      "[1. 0. 0. 0. 0. 0. 0. 1. 1. 0.]\n",
      "[0.01989629 1.08676945]\n",
      "\n",
      "==============================\n"
     ]
    }
   ],
   "source": [
    "chosen_user_ids = [(pca_user_id_1, pca_user_id_2)]\n",
    "print_representations(chosen_user_ids, r, pca_reduced_r)"
   ]
  },
  {
   "cell_type": "markdown",
   "id": "arranged-white",
   "metadata": {},
   "source": [
    "Interpretation: if the original vectors for the chosen pair are far away from each other, then this means that the reduction properly kept distances between points which were far away in the original space. Otherwise, it means that the reduction lost an important piece of topological information from the original space."
   ]
  },
  {
   "cell_type": "markdown",
   "id": "republican-egyptian",
   "metadata": {},
   "source": [
    "## tSNE"
   ]
  },
  {
   "cell_type": "markdown",
   "id": "collected-texas",
   "metadata": {},
   "source": [
    "**Task 3.** Apply tSNE to the rows (user representations) of the interaction matrix into two dimensions. Use sklearn.manifold.TSNE (with init='pca'). Set the transformed rows to the tsne_reduced_r variable."
   ]
  },
  {
   "cell_type": "code",
   "execution_count": 21,
   "id": "signal-orchestra",
   "metadata": {},
   "outputs": [],
   "source": [
    "from sklearn.manifold import TSNE\n",
    "\n",
    "tsne_reduced_r = TSNE(n_components=2, init='pca').fit_transform(r)"
   ]
  },
  {
   "cell_type": "markdown",
   "id": "mexican-interaction",
   "metadata": {},
   "source": [
    "### Plot the reduced data"
   ]
  },
  {
   "cell_type": "code",
   "execution_count": 22,
   "id": "alternate-romantic",
   "metadata": {},
   "outputs": [
    {
     "data": {
      "image/png": "[encoded data removed]",
      "text/plain": [
       "<Figure size 1152x648 with 1 Axes>"
      ]
     },
     "metadata": {
      "needs_background": "light"
     },
     "output_type": "display_data"
    }
   ],
   "source": [
    "plot_unique_datapoints_2d(tsne_reduced_r, tolerance=0.1)"
   ]
  },
  {
   "cell_type": "markdown",
   "id": "frozen-creek",
   "metadata": {},
   "source": [
    "### Print tSNE representations for chosen pairs of users close on the PCA graph"
   ]
  },
  {
   "cell_type": "code",
   "execution_count": 23,
   "id": "restricted-satellite",
   "metadata": {},
   "outputs": [
    {
     "name": "stdout",
     "output_type": "stream",
     "text": [
      "User 0 full representation and reduced representation\n",
      "[1. 1. 1. 1. 1. 0. 0. 0. 0. 0.]\n",
      "[ 4.1111813 17.915693 ]\n",
      "\n",
      "User 16 full representation and reduced representation\n",
      "[1. 0. 1. 1. 1. 0. 0. 0. 0. 1.]\n",
      "[-2.8177395 11.576548 ]\n",
      "\n",
      "==============================\n",
      "User 133 full representation and reduced representation\n",
      "[0. 0. 0. 0. 0. 0. 1. 0. 0. 0.]\n",
      "[  8.303495 -13.4685  ]\n",
      "\n",
      "User 52 full representation and reduced representation\n",
      "[0. 1. 0. 0. 0. 0. 0. 0. 0. 0.]\n",
      "[  5.9234004 -11.219496 ]\n",
      "\n",
      "==============================\n",
      "User 75 full representation and reduced representation\n",
      "[1. 0. 1. 0. 1. 0. 0. 1. 1. 0.]\n",
      "[-7.7500815   0.44708735]\n",
      "\n",
      "User 159 full representation and reduced representation\n",
      "[1. 0. 1. 0. 1. 0. 0. 1. 0. 1.]\n",
      "[-3.3457055 12.198665 ]\n",
      "\n",
      "==============================\n",
      "User 279 full representation and reduced representation\n",
      "[0. 0. 0. 1. 1. 1. 1. 0. 0. 1.]\n",
      "[1.0286694 8.000443 ]\n",
      "\n",
      "User 346 full representation and reduced representation\n",
      "[0. 0. 0. 1. 1. 1. 0. 0. 0. 1.]\n",
      "[2.1251397 7.394632 ]\n",
      "\n",
      "==============================\n",
      "User 15 full representation and reduced representation\n",
      "[1. 1. 1. 1. 1. 1. 1. 1. 1. 1.]\n",
      "[ 0.09615579 23.361073  ]\n",
      "\n",
      "User 61 full representation and reduced representation\n",
      "[1. 1. 1. 1. 1. 1. 0. 1. 1. 1.]\n",
      "[ 0.9902074 21.98845  ]\n",
      "\n",
      "==============================\n"
     ]
    }
   ],
   "source": [
    "chosen_user_ids = [(0, 16), (133, 52), (75, 159), (279, 346), (15, 61)]\n",
    "print_representations(chosen_user_ids, r, tsne_reduced_r)"
   ]
  },
  {
   "cell_type": "markdown",
   "id": "empty-defense",
   "metadata": {},
   "source": [
    "### Print tSNE representations for chosen pairs of users close on the tSNE graph\n",
    "\n",
    "Notice that those clusters of points represent points with exactly the same interaction vector. In PCA they were mapped into the same point, but tSNE separates all points."
   ]
  },
  {
   "cell_type": "code",
   "execution_count": 24,
   "id": "cheap-conjunction",
   "metadata": {},
   "outputs": [
    {
     "name": "stdout",
     "output_type": "stream",
     "text": [
      "User 81 full representation and reduced representation\n",
      "[1. 0. 0. 0. 0. 0. 0. 0. 0. 0.]\n",
      "[-17.655764   -6.1555915]\n",
      "\n",
      "User 39 full representation and reduced representation\n",
      "[1. 0. 0. 0. 0. 0. 0. 0. 0. 0.]\n",
      "[-18.069803   -6.8671246]\n",
      "\n",
      "User 120 full representation and reduced representation\n",
      "[1. 0. 0. 0. 0. 0. 0. 0. 0. 0.]\n",
      "[-16.88304   -6.634788]\n",
      "\n",
      "User 101 full representation and reduced representation\n",
      "[1. 0. 0. 0. 0. 0. 1. 0. 0. 0.]\n",
      "[-19.402433  -3.913634]\n",
      "\n",
      "==============================\n",
      "User 11 full representation and reduced representation\n",
      "[0. 0. 0. 0. 0. 1. 0. 0. 0. 0.]\n",
      "[ 11.019438 -18.652185]\n",
      "\n",
      "User 49 full representation and reduced representation\n",
      "[0. 0. 0. 0. 0. 1. 0. 0. 0. 0.]\n",
      "[ 11.808505 -16.281946]\n",
      "\n",
      "User 288 full representation and reduced representation\n",
      "[0. 0. 0. 0. 0. 1. 0. 0. 0. 0.]\n",
      "[ 11.2088375 -18.047634 ]\n",
      "\n",
      "User 378 full representation and reduced representation\n",
      "[0. 1. 0. 0. 0. 1. 0. 0. 0. 0.]\n",
      "[  9.244785 -16.265873]\n",
      "\n",
      "==============================\n",
      "User 14 full representation and reduced representation\n",
      "[1. 0. 0. 1. 0. 1. 0. 0. 0. 1.]\n",
      "[-2.8866696  6.461524 ]\n",
      "\n",
      "User 329 full representation and reduced representation\n",
      "[1. 0. 0. 1. 0. 1. 1. 0. 0. 1.]\n",
      "[-2.0399349  7.052188 ]\n",
      "\n",
      "==============================\n",
      "User 150 full representation and reduced representation\n",
      "[0. 0. 0. 0. 0. 1. 0. 0. 0. 0.]\n",
      "[ 13.8723 -16.851 ]\n",
      "\n",
      "User 127 full representation and reduced representation\n",
      "[1. 0. 1. 1. 1. 0. 0. 1. 0. 1.]\n",
      "[-3.092618 12.161119]\n",
      "\n",
      "User 148 full representation and reduced representation\n",
      "[1. 1. 1. 0. 0. 1. 0. 0. 0. 1.]\n",
      "[-8.870049 10.552464]\n",
      "\n",
      "==============================\n"
     ]
    }
   ],
   "source": [
    "chosen_user_ids = [(81, 39, 120, 101), (11, 49, 288, 378), (14, 329), (150, 127, 148)]\n",
    "print_representations(chosen_user_ids, r, tsne_reduced_r)"
   ]
  },
  {
   "cell_type": "markdown",
   "id": "traditional-flood",
   "metadata": {},
   "source": [
    "### Topology of distant datapoints"
   ]
  },
  {
   "cell_type": "markdown",
   "id": "expressed-zealand",
   "metadata": {},
   "source": [
    "**Task 4.** Find the pair of user ids with the highest discrepancy for the tSNE reduction and set those ids to tsne_user_id_1 and tsne_user_id_2."
   ]
  },
  {
   "cell_type": "code",
   "execution_count": null,
   "id": "fundamental-arnold",
   "metadata": {},
   "outputs": [],
   "source": [
    "# Write your code here"
   ]
  },
  {
   "cell_type": "code",
   "execution_count": null,
   "id": "electrical-aircraft",
   "metadata": {},
   "outputs": [],
   "source": [
    "chosen_user_ids = [(tsne_user_id_1, tsne_user_id_2)]\n",
    "print_representations(chosen_user_ids, r, tsne_reduced_r)"
   ]
  },
  {
   "cell_type": "markdown",
   "id": "practical-characteristic",
   "metadata": {},
   "source": [
    "# Matrix factorization"
   ]
  },
  {
   "cell_type": "markdown",
   "id": "elect-season",
   "metadata": {},
   "source": [
    "## SVD (Singular Value Decomposition)"
   ]
  },
  {
   "cell_type": "markdown",
   "id": "geographic-emphasis",
   "metadata": {},
   "source": [
    "**Task 5.** Implement a method for performing SVD for an arbitrary matrix and returning the two submatrices corresponding to the $k$ biggest eigenvalues - the matrix consisting of the $k$ first columns of $P$ multiplied by the matrix consisting of the first $k$ rows and columns of $\\Sigma$ (that's the first matrix in decomposition), the matrix consisting of the first $k$ columns of $Q$ (compare the lecture). For $k$ equal to None return the full decomposition. Return a tuple with both resulting matrices. \n",
    "\n",
    "Use numpy.linalg.svd to perform SVD. Note that this method does not return a diagonal matrix as the second matrix, but only a vector of singular values. To perform the matrix multiplication as suggested in the lecture you have to transform it into a diagonal matrix (for instance with np.diag). Note also that the $Q$ matrix returned by this method is already transposed (you have to revert the transposition). To make the calculations easier you can use this method with full_matrices=False. It will cut the matrices to the sizes $m \\text{x} k$, $k \\text{x} k$, $k \\text{x} n$, where $m$ is the number of rows in the original matrix, $k$ is the number of non-zero eigenvalues, $n$ is the number of columns in the original matrix.\n",
    "\n",
    "The interface of the method should have the following form:\n",
    "\n",
    "    perform_svd(r, k=None)\n",
    "\n",
    "To test the method decompose the matrix defined in the cell below for the following values of $k$: None, 6, 5, 4, 3, 2, 1, and then reconstruct the original matrix by multiplying the matrices from the decomposition. For every $k$ calculate and print the element-wise difference between the original matrix and the matrix retrieved from the decomposition and calculate and print the Euclidean distance between the matrices (take the the square of every element in the difference matrix, sum them up and take the square root - that's the same formula as for RMSE). You can also print the decomposition for every $k$ to see how it looks like.\n",
    "\n",
    "Compare the decomposition given in the lecture with the one given by your method for $k = 2$ and compare the reconstructed matrices distance to the original. Which decomposition is better (i.e. gives a closer approximation)?"
   ]
  },
  {
   "cell_type": "code",
   "execution_count": 20,
   "id": "analyzed-walter",
   "metadata": {},
   "outputs": [],
   "source": [
    "r_aggarwal = [\n",
    "    [1, 1, 1, 0, 0, 0],\n",
    "    [1, 1, 1, 0, 0, 0],\n",
    "    [1, 1, 1, 0, 0, 0],\n",
    "    [1, 1, 1, 1, 1, 1],\n",
    "    [-1, -1, -1, 1, 1, 1],\n",
    "    [-1, -1, 1, 1, 1, 1],\n",
    "    [-1, -1, -1, 1, 1, 1],\n",
    "]\n",
    "\n",
    "# https://stackoverflow.com/questions/24913232/using-numpy-np-linalg-svd-for-singular-value-decomposition\n",
    "def perform_svd(r, k=None):\n",
    "    p, d, q = np.linalg.svd(r, full_matrices=False)\n",
    "    q = q.T # transpose matrix according to formula X = P D Q^t\n",
    "    \n",
    "    if k is not None:\n",
    "        p = p[:, :k]\n",
    "        d = d[:k]\n",
    "        q = q[:, :k]\n",
    "    \n",
    "    # X_a = np.matmul(np.matmul(P, np.diag(D)), Q)\n",
    "    return np.matmul(p, np.diag(d)), q"
   ]
  },
  {
   "cell_type": "code",
   "execution_count": 21,
   "id": "boxed-fleet",
   "metadata": {
    "collapsed": true
   },
   "outputs": [
    {
     "name": "stdout",
     "output_type": "stream",
     "text": [
      "Dimension\n",
      "None\n",
      "\n",
      "User representations\n",
      "[[-1.52944296e+00 -8.12663674e-01  1.95447931e-02 -2.59772974e-16 -1.02796434e-32 -1.00598140e-49]\n",
      " [-1.52944296e+00 -8.12663674e-01  1.95447931e-02  6.46918826e-17  1.36239400e-32 -2.75425384e-49]\n",
      " [-1.52944296e+00 -8.12663674e-01  1.95447931e-02  2.03869296e-16 -1.71976706e-32 -3.41548113e-50]\n",
      " [-7.42924033e-01 -2.28152330e+00  4.92661472e-01 -4.39410230e-18  6.92668697e-33  2.05089168e-49]\n",
      " [ 2.31596188e+00 -6.56195950e-01  4.53571886e-01  2.19705115e-18 -3.46334349e-33 -1.02544584e-49]\n",
      " [ 1.48999326e+00 -1.60022004e+00 -1.10418110e+00  8.65311095e-33  1.21689323e-48  1.52402967e-65]\n",
      " [ 2.31596188e+00 -6.56195950e-01  4.53571886e-01  2.19705115e-18 -3.46334349e-33 -1.02544584e-49]]\n",
      "\n",
      "Item representations\n",
      "[[-5.58229324e-01 -5.58229324e-01 -4.12984307e-01  2.62172974e-01  2.62172974e-01  2.62172974e-01]\n",
      " [-1.70325815e-01 -1.70325815e-01 -4.72012043e-01 -4.89619874e-01 -4.89619874e-01 -4.89619874e-01]\n",
      " [ 3.99210644e-01  3.99210644e-01 -7.78876494e-01  1.57705560e-01  1.57705560e-01  1.57705560e-01]\n",
      " [-7.07106781e-01  7.07106781e-01 -2.38969178e-16  7.04104004e-17  7.04104004e-17  7.04104004e-17]\n",
      " [ 0.00000000e+00  7.21394582e-17 -1.19855058e-16  8.16496581e-01 -4.08248290e-01 -4.08248290e-01]\n",
      " [-0.00000000e+00  3.85511821e-18 -5.44593215e-18  7.25415928e-17  7.07106781e-01 -7.07106781e-01]]\n",
      "\n",
      "Matrix recreated from the decomposition\n",
      "[[ 1.00000000e+00  1.00000000e+00  1.00000000e+00 -6.68090676e-16 -6.68090676e-16 -6.68090676e-16]\n",
      " [ 1.00000000e+00  1.00000000e+00  1.00000000e+00 -4.18141366e-16 -4.18141366e-16 -4.18141366e-16]\n",
      " [ 1.00000000e+00  1.00000000e+00  1.00000000e+00 -5.33056078e-16 -5.33056078e-16 -5.33056078e-16]\n",
      " [ 1.00000000e+00  1.00000000e+00  1.00000000e+00  1.00000000e+00  1.00000000e+00  1.00000000e+00]\n",
      " [-1.00000000e+00 -1.00000000e+00 -1.00000000e+00  1.00000000e+00  1.00000000e+00  1.00000000e+00]\n",
      " [-1.00000000e+00 -1.00000000e+00  1.00000000e+00  1.00000000e+00  1.00000000e+00  1.00000000e+00]\n",
      " [-1.00000000e+00 -1.00000000e+00 -1.00000000e+00  1.00000000e+00  1.00000000e+00  1.00000000e+00]]\n",
      "\n",
      "Difference between original and decomposed\n",
      "[[-8.88178420e-16 -2.22044605e-16 -2.22044605e-16  6.68090676e-16  6.68090676e-16  6.68090676e-16]\n",
      " [-2.22044605e-16  1.11022302e-16  2.22044605e-16  4.18141366e-16  4.18141366e-16  4.18141366e-16]\n",
      " [ 0.00000000e+00  0.00000000e+00  7.77156117e-16  5.33056078e-16  5.33056078e-16  5.33056078e-16]\n",
      " [-2.22044605e-16  3.33066907e-16  5.55111512e-16  9.99200722e-16  9.99200722e-16  9.99200722e-16]\n",
      " [ 2.22044605e-16  4.44089210e-16  4.44089210e-16  0.00000000e+00  0.00000000e+00  0.00000000e+00]\n",
      " [ 4.44089210e-16  0.00000000e+00  1.33226763e-15  9.99200722e-16  9.99200722e-16  9.99200722e-16]\n",
      " [ 2.22044605e-16  4.44089210e-16  4.44089210e-16  0.00000000e+00  0.00000000e+00  0.00000000e+00]]\n",
      "\n",
      "RMSE\n",
      "3.692804024342239e-15\n",
      "==============================\n",
      "Dimension\n",
      "4\n",
      "\n",
      "User representations\n",
      "[[-1.52944296e+00 -8.12663674e-01  1.95447931e-02 -2.59772974e-16]\n",
      " [-1.52944296e+00 -8.12663674e-01  1.95447931e-02  6.46918826e-17]\n",
      " [-1.52944296e+00 -8.12663674e-01  1.95447931e-02  2.03869296e-16]\n",
      " [-7.42924033e-01 -2.28152330e+00  4.92661472e-01 -4.39410230e-18]\n",
      " [ 2.31596188e+00 -6.56195950e-01  4.53571886e-01  2.19705115e-18]\n",
      " [ 1.48999326e+00 -1.60022004e+00 -1.10418110e+00  8.65311095e-33]\n",
      " [ 2.31596188e+00 -6.56195950e-01  4.53571886e-01  2.19705115e-18]]\n",
      "\n",
      "Item representations\n",
      "[[-5.58229324e-01 -5.58229324e-01 -4.12984307e-01  2.62172974e-01  2.62172974e-01  2.62172974e-01]\n",
      " [-1.70325815e-01 -1.70325815e-01 -4.72012043e-01 -4.89619874e-01 -4.89619874e-01 -4.89619874e-01]\n",
      " [ 3.99210644e-01  3.99210644e-01 -7.78876494e-01  1.57705560e-01  1.57705560e-01  1.57705560e-01]\n",
      " [-7.07106781e-01  7.07106781e-01 -2.38969178e-16  7.04104004e-17  7.04104004e-17  7.04104004e-17]]\n",
      "\n",
      "Matrix recreated from the decomposition\n",
      "[[ 1.00000000e+00  1.00000000e+00  1.00000000e+00 -6.68090676e-16 -6.68090676e-16 -6.68090676e-16]\n",
      " [ 1.00000000e+00  1.00000000e+00  1.00000000e+00 -4.18141366e-16 -4.18141366e-16 -4.18141366e-16]\n",
      " [ 1.00000000e+00  1.00000000e+00  1.00000000e+00 -5.33056078e-16 -5.33056078e-16 -5.33056078e-16]\n",
      " [ 1.00000000e+00  1.00000000e+00  1.00000000e+00  1.00000000e+00  1.00000000e+00  1.00000000e+00]\n",
      " [-1.00000000e+00 -1.00000000e+00 -1.00000000e+00  1.00000000e+00  1.00000000e+00  1.00000000e+00]\n",
      " [-1.00000000e+00 -1.00000000e+00  1.00000000e+00  1.00000000e+00  1.00000000e+00  1.00000000e+00]\n",
      " [-1.00000000e+00 -1.00000000e+00 -1.00000000e+00  1.00000000e+00  1.00000000e+00  1.00000000e+00]]\n",
      "\n",
      "Difference between original and decomposed\n",
      "[[-8.88178420e-16 -2.22044605e-16 -2.22044605e-16  6.68090676e-16  6.68090676e-16  6.68090676e-16]\n",
      " [-2.22044605e-16  1.11022302e-16  2.22044605e-16  4.18141366e-16  4.18141366e-16  4.18141366e-16]\n",
      " [ 0.00000000e+00  0.00000000e+00  7.77156117e-16  5.33056078e-16  5.33056078e-16  5.33056078e-16]\n",
      " [-2.22044605e-16  3.33066907e-16  5.55111512e-16  9.99200722e-16  9.99200722e-16  9.99200722e-16]\n",
      " [ 2.22044605e-16  4.44089210e-16  4.44089210e-16  0.00000000e+00  0.00000000e+00  0.00000000e+00]\n",
      " [ 4.44089210e-16  0.00000000e+00  1.33226763e-15  9.99200722e-16  9.99200722e-16  9.99200722e-16]\n",
      " [ 2.22044605e-16  4.44089210e-16  4.44089210e-16  0.00000000e+00  0.00000000e+00  0.00000000e+00]]\n",
      "\n",
      "RMSE\n",
      "3.692804024342239e-15\n",
      "==============================\n",
      "Dimension\n",
      "2\n",
      "\n",
      "User representations\n",
      "[[-1.52944296 -0.81266367]\n",
      " [-1.52944296 -0.81266367]\n",
      " [-1.52944296 -0.81266367]\n",
      " [-0.74292403 -2.2815233 ]\n",
      " [ 2.31596188 -0.65619595]\n",
      " [ 1.48999326 -1.60022004]\n",
      " [ 2.31596188 -0.65619595]]\n",
      "\n",
      "Item representations\n",
      "[[-0.55822932 -0.55822932 -0.41298431  0.26217297  0.26217297  0.26217297]\n",
      " [-0.17032582 -0.17032582 -0.47201204 -0.48961987 -0.48961987 -0.48961987]]\n",
      "\n",
      "Matrix recreated from the decomposition\n",
      "[[ 0.99219751  0.99219751  1.01522298 -0.00308232 -0.00308232 -0.00308232]\n",
      " [ 0.99219751  0.99219751  1.01522298 -0.00308232 -0.00308232 -0.00308232]\n",
      " [ 0.99219751  0.99219751  1.01522298 -0.00308232 -0.00308232 -0.00308232]\n",
      " [ 0.8033243   0.8033243   1.38372244  0.92230455  0.92230455  0.92230455]\n",
      " [-1.18107072 -1.18107072 -0.64672352  0.92846919  0.92846919  0.92846919]\n",
      " [-0.55919915 -0.55919915  0.13997929  1.1741355   1.1741355   1.1741355 ]\n",
      " [-1.18107072 -1.18107072 -0.64672352  0.92846919  0.92846919  0.92846919]]\n",
      "\n",
      "Difference between original and decomposed\n",
      "[[ 0.00780249  0.00780249 -0.01522298  0.00308232  0.00308232  0.00308232]\n",
      " [ 0.00780249  0.00780249 -0.01522298  0.00308232  0.00308232  0.00308232]\n",
      " [ 0.00780249  0.00780249 -0.01522298  0.00308232  0.00308232  0.00308232]\n",
      " [ 0.1966757   0.1966757  -0.38372244  0.07769545  0.07769545  0.07769545]\n",
      " [ 0.18107072  0.18107072 -0.35327648  0.07153081  0.07153081  0.07153081]\n",
      " [-0.44080085 -0.44080085  0.86002071 -0.1741355  -0.1741355  -0.1741355 ]\n",
      " [ 0.18107072  0.18107072 -0.35327648  0.07153081  0.07153081  0.07153081]]\n",
      "\n",
      "RMSE\n",
      "1.3691355453777034\n",
      "==============================\n"
     ]
    }
   ],
   "source": [
    "ks = [None, 4, 2]\n",
    "\n",
    "for k in ks:\n",
    "    p, q = perform_svd(r_aggarwal, k)\n",
    "    r_retrieved = np.matmul(p, q.T)\n",
    "    diff = r_aggarwal - r_retrieved\n",
    "\n",
    "    print(\"Dimension\")\n",
    "    print(k)\n",
    "    print()\n",
    "    print(\"User representations\")\n",
    "    print(p)\n",
    "    print()\n",
    "    print(\"Item representations\")\n",
    "    print(q.T)\n",
    "    print()\n",
    "    print(\"Matrix recreated from the decomposition\")\n",
    "    print(r_retrieved)\n",
    "    print()\n",
    "    print(\"Difference between original and decomposed\")\n",
    "    print(diff)\n",
    "    print()\n",
    "    print(\"RMSE\")\n",
    "    print(np.sqrt(np.sum(np.power(diff, 2))))\n",
    "    print(\"==============================\")"
   ]
  },
  {
   "cell_type": "markdown",
   "id": "varied-edition",
   "metadata": {},
   "source": [
    "## Application of the SVD decomposition to obtain 2D representation of users for the movielens dataset subset"
   ]
  },
  {
   "cell_type": "code",
   "execution_count": 22,
   "id": "improved-horizontal",
   "metadata": {},
   "outputs": [],
   "source": [
    "svd_reduced_r, _ = perform_svd(r, k=2)"
   ]
  },
  {
   "cell_type": "markdown",
   "id": "knowing-alloy",
   "metadata": {},
   "source": [
    "### Plot the reduced data"
   ]
  },
  {
   "cell_type": "code",
   "execution_count": 23,
   "id": "downtown-interim",
   "metadata": {},
   "outputs": [
    {
     "data": {
      "image/png": "[encoded data removed]",
      "text/plain": [
       "<Figure size 1152x648 with 1 Axes>"
      ]
     },
     "metadata": {
      "needs_background": "light"
     },
     "output_type": "display_data"
    }
   ],
   "source": [
    "plot_unique_datapoints_2d(svd_reduced_r, tolerance=0.1)"
   ]
  },
  {
   "cell_type": "markdown",
   "id": "twelve-synthesis",
   "metadata": {},
   "source": [
    "### Print representations for chosen pairs of users close on the graph"
   ]
  },
  {
   "cell_type": "code",
   "execution_count": 24,
   "id": "smart-distinction",
   "metadata": {},
   "outputs": [
    {
     "name": "stdout",
     "output_type": "stream",
     "text": [
      "User 15 full representation and reduced representation\n",
      "[1. 1. 1. 1. 1. 1. 1. 1. 1. 1.]\n",
      "[-3.01364393 -0.53889763]\n",
      "\n",
      "User 61 full representation and reduced representation\n",
      "[1. 1. 1. 1. 1. 1. 0. 1. 1. 1.]\n",
      "[-2.88782982 -0.53898616]\n",
      "\n",
      "User 213 full representation and reduced representation\n",
      "[1. 0. 1. 1. 1. 1. 1. 1. 1. 1.]\n",
      "[-2.81043269 -0.38781381]\n",
      "\n",
      "==============================\n",
      "User 65 full representation and reduced representation\n",
      "[0. 0. 0. 0. 0. 1. 0. 0. 0. 1.]\n",
      "[-0.73220749  0.75196244]\n",
      "\n",
      "User 26 full representation and reduced representation\n",
      "[0. 0. 0. 0. 0. 1. 1. 0. 0. 0.]\n",
      "[-0.60506937  0.8179285 ]\n",
      "\n",
      "User 4 full representation and reduced representation\n",
      "[0. 0. 0. 0. 0. 1. 0. 0. 0. 0.]\n",
      "[-0.47925526  0.81783996]\n",
      "\n",
      "==============================\n",
      "User 413 full representation and reduced representation\n",
      "[1. 1. 1. 0. 0. 1. 0. 1. 1. 1.]\n",
      "[-2.15856462 -0.20648465]\n",
      "\n",
      "User 304 full representation and reduced representation\n",
      "[0. 0. 1. 1. 1. 1. 1. 1. 1. 0.]\n",
      "[-2.1996283 -0.2715007]\n",
      "\n",
      "==============================\n",
      "User 86 full representation and reduced representation\n",
      "[1. 0. 1. 0. 1. 0. 0. 0. 1. 0.]\n",
      "[-1.21948623 -0.87665647]\n",
      "\n",
      "User 320 full representation and reduced representation\n",
      "[0. 1. 1. 0. 1. 0. 0. 0. 0. 1.]\n",
      "[-1.05203314 -0.79963317]\n",
      "\n",
      "User 505 full representation and reduced representation\n",
      "[0. 1. 1. 0. 1. 0. 0. 0. 1. 0.]\n",
      "[-1.06484532 -0.97730469]\n",
      "\n",
      "==============================\n",
      "User 43 full representation and reduced representation\n",
      "[0. 0. 0. 0. 0. 0. 0. 0. 0. 1.]\n",
      "[-0.25295223 -0.06587752]\n",
      "\n",
      "User 52 full representation and reduced representation\n",
      "[0. 1. 0. 0. 0. 0. 0. 0. 0. 0.]\n",
      "[-0.20321125 -0.15108381]\n",
      "\n",
      "User 133 full representation and reduced representation\n",
      "[0. 0. 0. 0. 0. 0. 1. 0. 0. 0.]\n",
      "[-1.25814112e-01  8.85395467e-05]\n",
      "\n",
      "==============================\n"
     ]
    }
   ],
   "source": [
    "chosen_user_ids = [(15, 61, 213), (65, 26, 4), (413, 304), (86, 320, 505), (43, 52, 133)]\n",
    "print_representations(chosen_user_ids, r, svd_reduced_r)"
   ]
  },
  {
   "cell_type": "markdown",
   "id": "eligible-mauritius",
   "metadata": {},
   "source": [
    "### Topology of distant datapoints"
   ]
  },
  {
   "cell_type": "code",
   "execution_count": 25,
   "id": "amateur-minute",
   "metadata": {},
   "outputs": [
    {
     "ename": "NameError",
     "evalue": "name 'find_poorest_reduction' is not defined",
     "output_type": "error",
     "traceback": [
      "\u001b[1;31m---------------------------------------------------------------------------\u001b[0m",
      "\u001b[1;31mNameError\u001b[0m                                 Traceback (most recent call last)",
      "\u001b[1;32m~\\AppData\\Local\\Temp/ipykernel_9316/3994509599.py\u001b[0m in \u001b[0;36m<module>\u001b[1;34m\u001b[0m\n\u001b[1;32m----> 1\u001b[1;33m \u001b[0msvd_user_id_1\u001b[0m\u001b[1;33m,\u001b[0m \u001b[0msvd_user_id_2\u001b[0m \u001b[1;33m=\u001b[0m \u001b[0mfind_poorest_reduction\u001b[0m\u001b[1;33m(\u001b[0m\u001b[0mr\u001b[0m\u001b[1;33m,\u001b[0m \u001b[0msvd_reduced_r\u001b[0m\u001b[1;33m)\u001b[0m\u001b[1;33m\u001b[0m\u001b[1;33m\u001b[0m\u001b[0m\n\u001b[0m",
      "\u001b[1;31mNameError\u001b[0m: name 'find_poorest_reduction' is not defined"
     ]
    }
   ],
   "source": [
    "svd_user_id_1, svd_user_id_2 = find_poorest_reduction(r, svd_reduced_r)"
   ]
  },
  {
   "cell_type": "code",
   "execution_count": null,
   "id": "elegant-spring",
   "metadata": {},
   "outputs": [],
   "source": [
    "chosen_user_ids = [(svd_user_id_1, svd_user_id_2)]\n",
    "print_representations(chosen_user_ids, r, svd_reduced_r)"
   ]
  },
  {
   "cell_type": "markdown",
   "id": "familiar-hacker",
   "metadata": {},
   "source": [
    "# Optimization"
   ]
  },
  {
   "cell_type": "markdown",
   "id": "indirect-tiger",
   "metadata": {},
   "source": [
    "**Task 6.** Write a method perform_sgd for performing n_steps of stochastic gradient descent (SGD) for a given alpha for a linear fit to a 2D dataset. The method should return a tuple of fitted theta_0 and theta_1. Write all the updating formulas yourself.\n",
    "\n",
    "The interface of the method should be as follows:\n",
    "    \n",
    "    perform_sgd(data, theta_0_init, theta_1_init, n_steps, alpha)\n",
    "    \n",
    "Test several initial pairs of theta_0 and theta_1, and several values of n_steps and alpha. Does the method always converge to the same solution?\n",
    "\n",
    "You can also compare your solution to the optimal one found by sklearn.linear_model.LinearRegression.\n",
    "    \n",
    "Plot the data (as scatterplot) and the fit (as lineplot) on a single seaborn chart."
   ]
  },
  {
   "cell_type": "code",
   "execution_count": 34,
   "id": "super-timer",
   "metadata": {},
   "outputs": [
    {
     "data": {
      "text/plain": [
       "array([[0.2 , 0.52],\n",
       "       [0.5 , 1.36],\n",
       "       [0.9 , 1.  ],\n",
       "       [1.3 , 1.69],\n",
       "       [1.5 , 2.58],\n",
       "       [2.8 , 2.34]])"
      ]
     },
     "metadata": {},
     "output_type": "display_data"
    },
    {
     "data": {
      "text/plain": [
       "array([0.2 , 0.52])"
      ]
     },
     "metadata": {},
     "output_type": "display_data"
    },
    {
     "name": "stdout",
     "output_type": "stream",
     "text": [
      "0.4440893035021627 0.19342369824987243\n"
     ]
    }
   ],
   "source": [
    "data = np.array([\n",
    "    [0.2, 0.52],\n",
    "    [0.5, 1.36],\n",
    "    [0.9, 1.00],\n",
    "    [1.3, 1.69],\n",
    "    [1.5, 2.58],\n",
    "    [2.8, 2.34]\n",
    "])\n",
    "\n",
    "# EXAMPLE\n",
    "def perform_sgd(data, theta_0_init, theta_1_init, n_steps, alpha):\n",
    "    tmp_theta_0 = theta_0_init\n",
    "    tmp_theta_1 = theta_1_init\n",
    "    \n",
    "    x = data[:, 0]\n",
    "    y = data[:, 1]\n",
    "    \n",
    "    for _ in range(n_steps):\n",
    "        tmp_theta_0 += 2 * alpha / len(data) * np.sum(y - (tmp_theta_1 * x + tmp_theta_0))\n",
    "        tmp_theta_1 += 2 * alpha / len(data) * np.sum(x * (y - (tmp_theta_1 * x + tmp_theta_0)))\n",
    "    \n",
    "    return tmp_theta_0, tmp_theta_1\n",
    "\n",
    "# Test I\n",
    "data = np.array([\n",
    "    [0.2, 0.52],\n",
    "    [0.5, 1.36],\n",
    "    [0.9, 1.00],\n",
    "    [1.3, 1.69],\n",
    "    [1.5, 2.58],\n",
    "    [2.8, 2.34]\n",
    "])\n",
    "\n",
    "theta_0, theta_1 = perform_sgd(data, theta_0_init=0, theta_1_init=0, n_steps=10, alpha=0.1)\n",
    "print(theta_0, theta_1)"
   ]
  },
  {
   "cell_type": "code",
   "execution_count": null,
   "id": "realistic-conjunction",
   "metadata": {},
   "outputs": [],
   "source": []
  }
 ],
 "metadata": {
  "kernelspec": {
   "display_name": "Python 3 (ipykernel)",
   "language": "python",
   "name": "python3"
  },
  "language_info": {
   "codemirror_mode": {
    "name": "ipython",
    "version": 3
   },
   "file_extension": ".py",
   "mimetype": "text/x-python",
   "name": "python",
   "nbconvert_exporter": "python",
   "pygments_lexer": "ipython3",
   "version": "3.8.10"
  }
 },
 "nbformat": 4,
 "nbformat_minor": 5
}
